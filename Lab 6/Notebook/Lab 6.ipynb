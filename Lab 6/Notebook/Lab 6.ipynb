{
 "cells": [
  {
   "cell_type": "code",
   "execution_count": 13,
   "metadata": {},
   "outputs": [],
   "source": [
    "import pickle\n",
    "import pandas as pd\n",
    "import numpy as np\n",
    "from sklearn.cluster import KMeans\n",
    "import tensorflow as tf\n",
    "from matplotlib import pyplot as plt\n",
    "from skimage.color import rgb2gray"
   ]
  },
  {
   "cell_type": "markdown",
   "metadata": {},
   "source": [
    "## b) Extract birds pictures"
   ]
  },
  {
   "cell_type": "code",
   "execution_count": 2,
   "metadata": {},
   "outputs": [],
   "source": [
    "def unpickle(file):\n",
    "    with open(file, 'rb') as fo:\n",
    "        dict = pickle.load(fo, encoding='bytes')\n",
    "    return dict"
   ]
  },
  {
   "cell_type": "code",
   "execution_count": 3,
   "metadata": {},
   "outputs": [
    {
     "data": {
      "text/html": [
       "<div>\n",
       "<style scoped>\n",
       "    .dataframe tbody tr th:only-of-type {\n",
       "        vertical-align: middle;\n",
       "    }\n",
       "\n",
       "    .dataframe tbody tr th {\n",
       "        vertical-align: top;\n",
       "    }\n",
       "\n",
       "    .dataframe thead th {\n",
       "        text-align: right;\n",
       "    }\n",
       "</style>\n",
       "<table border=\"1\" class=\"dataframe\">\n",
       "  <thead>\n",
       "    <tr style=\"text-align: right;\">\n",
       "      <th></th>\n",
       "      <th>0</th>\n",
       "      <th>1</th>\n",
       "      <th>2</th>\n",
       "      <th>3</th>\n",
       "      <th>4</th>\n",
       "      <th>5</th>\n",
       "      <th>6</th>\n",
       "      <th>7</th>\n",
       "      <th>8</th>\n",
       "      <th>9</th>\n",
       "      <th>...</th>\n",
       "      <th>3062</th>\n",
       "      <th>3063</th>\n",
       "      <th>3064</th>\n",
       "      <th>3065</th>\n",
       "      <th>3066</th>\n",
       "      <th>3067</th>\n",
       "      <th>3068</th>\n",
       "      <th>3069</th>\n",
       "      <th>3070</th>\n",
       "      <th>3071</th>\n",
       "    </tr>\n",
       "  </thead>\n",
       "  <tbody>\n",
       "    <tr>\n",
       "      <td>0</td>\n",
       "      <td>164</td>\n",
       "      <td>105</td>\n",
       "      <td>118</td>\n",
       "      <td>129</td>\n",
       "      <td>134</td>\n",
       "      <td>146</td>\n",
       "      <td>166</td>\n",
       "      <td>183</td>\n",
       "      <td>199</td>\n",
       "      <td>174</td>\n",
       "      <td>...</td>\n",
       "      <td>98</td>\n",
       "      <td>71</td>\n",
       "      <td>48</td>\n",
       "      <td>58</td>\n",
       "      <td>64</td>\n",
       "      <td>48</td>\n",
       "      <td>41</td>\n",
       "      <td>29</td>\n",
       "      <td>26</td>\n",
       "      <td>44</td>\n",
       "    </tr>\n",
       "    <tr>\n",
       "      <td>1</td>\n",
       "      <td>17</td>\n",
       "      <td>17</td>\n",
       "      <td>17</td>\n",
       "      <td>17</td>\n",
       "      <td>19</td>\n",
       "      <td>19</td>\n",
       "      <td>20</td>\n",
       "      <td>22</td>\n",
       "      <td>22</td>\n",
       "      <td>21</td>\n",
       "      <td>...</td>\n",
       "      <td>47</td>\n",
       "      <td>36</td>\n",
       "      <td>25</td>\n",
       "      <td>21</td>\n",
       "      <td>21</td>\n",
       "      <td>21</td>\n",
       "      <td>21</td>\n",
       "      <td>20</td>\n",
       "      <td>18</td>\n",
       "      <td>16</td>\n",
       "    </tr>\n",
       "    <tr>\n",
       "      <td>2</td>\n",
       "      <td>197</td>\n",
       "      <td>198</td>\n",
       "      <td>201</td>\n",
       "      <td>202</td>\n",
       "      <td>203</td>\n",
       "      <td>205</td>\n",
       "      <td>205</td>\n",
       "      <td>208</td>\n",
       "      <td>210</td>\n",
       "      <td>210</td>\n",
       "      <td>...</td>\n",
       "      <td>84</td>\n",
       "      <td>85</td>\n",
       "      <td>93</td>\n",
       "      <td>91</td>\n",
       "      <td>96</td>\n",
       "      <td>91</td>\n",
       "      <td>70</td>\n",
       "      <td>61</td>\n",
       "      <td>63</td>\n",
       "      <td>57</td>\n",
       "    </tr>\n",
       "    <tr>\n",
       "      <td>3</td>\n",
       "      <td>73</td>\n",
       "      <td>71</td>\n",
       "      <td>77</td>\n",
       "      <td>120</td>\n",
       "      <td>125</td>\n",
       "      <td>155</td>\n",
       "      <td>147</td>\n",
       "      <td>133</td>\n",
       "      <td>112</td>\n",
       "      <td>100</td>\n",
       "      <td>...</td>\n",
       "      <td>18</td>\n",
       "      <td>22</td>\n",
       "      <td>55</td>\n",
       "      <td>122</td>\n",
       "      <td>87</td>\n",
       "      <td>53</td>\n",
       "      <td>46</td>\n",
       "      <td>55</td>\n",
       "      <td>38</td>\n",
       "      <td>29</td>\n",
       "    </tr>\n",
       "    <tr>\n",
       "      <td>4</td>\n",
       "      <td>145</td>\n",
       "      <td>145</td>\n",
       "      <td>148</td>\n",
       "      <td>160</td>\n",
       "      <td>164</td>\n",
       "      <td>169</td>\n",
       "      <td>185</td>\n",
       "      <td>195</td>\n",
       "      <td>188</td>\n",
       "      <td>194</td>\n",
       "      <td>...</td>\n",
       "      <td>177</td>\n",
       "      <td>161</td>\n",
       "      <td>144</td>\n",
       "      <td>171</td>\n",
       "      <td>167</td>\n",
       "      <td>165</td>\n",
       "      <td>167</td>\n",
       "      <td>160</td>\n",
       "      <td>150</td>\n",
       "      <td>167</td>\n",
       "    </tr>\n",
       "    <tr>\n",
       "      <td>...</td>\n",
       "      <td>...</td>\n",
       "      <td>...</td>\n",
       "      <td>...</td>\n",
       "      <td>...</td>\n",
       "      <td>...</td>\n",
       "      <td>...</td>\n",
       "      <td>...</td>\n",
       "      <td>...</td>\n",
       "      <td>...</td>\n",
       "      <td>...</td>\n",
       "      <td>...</td>\n",
       "      <td>...</td>\n",
       "      <td>...</td>\n",
       "      <td>...</td>\n",
       "      <td>...</td>\n",
       "      <td>...</td>\n",
       "      <td>...</td>\n",
       "      <td>...</td>\n",
       "      <td>...</td>\n",
       "      <td>...</td>\n",
       "      <td>...</td>\n",
       "    </tr>\n",
       "    <tr>\n",
       "      <td>995</td>\n",
       "      <td>116</td>\n",
       "      <td>116</td>\n",
       "      <td>127</td>\n",
       "      <td>124</td>\n",
       "      <td>121</td>\n",
       "      <td>126</td>\n",
       "      <td>129</td>\n",
       "      <td>134</td>\n",
       "      <td>135</td>\n",
       "      <td>138</td>\n",
       "      <td>...</td>\n",
       "      <td>124</td>\n",
       "      <td>103</td>\n",
       "      <td>121</td>\n",
       "      <td>178</td>\n",
       "      <td>200</td>\n",
       "      <td>187</td>\n",
       "      <td>135</td>\n",
       "      <td>127</td>\n",
       "      <td>74</td>\n",
       "      <td>69</td>\n",
       "    </tr>\n",
       "    <tr>\n",
       "      <td>996</td>\n",
       "      <td>139</td>\n",
       "      <td>156</td>\n",
       "      <td>171</td>\n",
       "      <td>183</td>\n",
       "      <td>192</td>\n",
       "      <td>199</td>\n",
       "      <td>200</td>\n",
       "      <td>200</td>\n",
       "      <td>196</td>\n",
       "      <td>190</td>\n",
       "      <td>...</td>\n",
       "      <td>103</td>\n",
       "      <td>79</td>\n",
       "      <td>53</td>\n",
       "      <td>98</td>\n",
       "      <td>103</td>\n",
       "      <td>98</td>\n",
       "      <td>97</td>\n",
       "      <td>93</td>\n",
       "      <td>88</td>\n",
       "      <td>81</td>\n",
       "    </tr>\n",
       "    <tr>\n",
       "      <td>997</td>\n",
       "      <td>73</td>\n",
       "      <td>67</td>\n",
       "      <td>62</td>\n",
       "      <td>56</td>\n",
       "      <td>47</td>\n",
       "      <td>41</td>\n",
       "      <td>39</td>\n",
       "      <td>42</td>\n",
       "      <td>45</td>\n",
       "      <td>50</td>\n",
       "      <td>...</td>\n",
       "      <td>143</td>\n",
       "      <td>141</td>\n",
       "      <td>141</td>\n",
       "      <td>142</td>\n",
       "      <td>142</td>\n",
       "      <td>142</td>\n",
       "      <td>142</td>\n",
       "      <td>144</td>\n",
       "      <td>148</td>\n",
       "      <td>151</td>\n",
       "    </tr>\n",
       "    <tr>\n",
       "      <td>998</td>\n",
       "      <td>49</td>\n",
       "      <td>8</td>\n",
       "      <td>7</td>\n",
       "      <td>20</td>\n",
       "      <td>33</td>\n",
       "      <td>31</td>\n",
       "      <td>15</td>\n",
       "      <td>7</td>\n",
       "      <td>19</td>\n",
       "      <td>18</td>\n",
       "      <td>...</td>\n",
       "      <td>50</td>\n",
       "      <td>47</td>\n",
       "      <td>41</td>\n",
       "      <td>32</td>\n",
       "      <td>43</td>\n",
       "      <td>112</td>\n",
       "      <td>134</td>\n",
       "      <td>86</td>\n",
       "      <td>52</td>\n",
       "      <td>63</td>\n",
       "    </tr>\n",
       "    <tr>\n",
       "      <td>999</td>\n",
       "      <td>136</td>\n",
       "      <td>136</td>\n",
       "      <td>125</td>\n",
       "      <td>121</td>\n",
       "      <td>91</td>\n",
       "      <td>91</td>\n",
       "      <td>112</td>\n",
       "      <td>129</td>\n",
       "      <td>128</td>\n",
       "      <td>110</td>\n",
       "      <td>...</td>\n",
       "      <td>107</td>\n",
       "      <td>104</td>\n",
       "      <td>103</td>\n",
       "      <td>96</td>\n",
       "      <td>93</td>\n",
       "      <td>97</td>\n",
       "      <td>92</td>\n",
       "      <td>95</td>\n",
       "      <td>98</td>\n",
       "      <td>98</td>\n",
       "    </tr>\n",
       "  </tbody>\n",
       "</table>\n",
       "<p>6000 rows × 3072 columns</p>\n",
       "</div>"
      ],
      "text/plain": [
       "     0     1     2     3     4     5     6     7     8     9     ...  3062  \\\n",
       "0     164   105   118   129   134   146   166   183   199   174  ...    98   \n",
       "1      17    17    17    17    19    19    20    22    22    21  ...    47   \n",
       "2     197   198   201   202   203   205   205   208   210   210  ...    84   \n",
       "3      73    71    77   120   125   155   147   133   112   100  ...    18   \n",
       "4     145   145   148   160   164   169   185   195   188   194  ...   177   \n",
       "..    ...   ...   ...   ...   ...   ...   ...   ...   ...   ...  ...   ...   \n",
       "995   116   116   127   124   121   126   129   134   135   138  ...   124   \n",
       "996   139   156   171   183   192   199   200   200   196   190  ...   103   \n",
       "997    73    67    62    56    47    41    39    42    45    50  ...   143   \n",
       "998    49     8     7    20    33    31    15     7    19    18  ...    50   \n",
       "999   136   136   125   121    91    91   112   129   128   110  ...   107   \n",
       "\n",
       "     3063  3064  3065  3066  3067  3068  3069  3070  3071  \n",
       "0      71    48    58    64    48    41    29    26    44  \n",
       "1      36    25    21    21    21    21    20    18    16  \n",
       "2      85    93    91    96    91    70    61    63    57  \n",
       "3      22    55   122    87    53    46    55    38    29  \n",
       "4     161   144   171   167   165   167   160   150   167  \n",
       "..    ...   ...   ...   ...   ...   ...   ...   ...   ...  \n",
       "995   103   121   178   200   187   135   127    74    69  \n",
       "996    79    53    98   103    98    97    93    88    81  \n",
       "997   141   141   142   142   142   142   144   148   151  \n",
       "998    47    41    32    43   112   134    86    52    63  \n",
       "999   104   103    96    93    97    92    95    98    98  \n",
       "\n",
       "[6000 rows x 3072 columns]"
      ]
     },
     "execution_count": 3,
     "metadata": {},
     "output_type": "execute_result"
    }
   ],
   "source": [
    "tr1 = unpickle('../Data/data_batch_1')\n",
    "indices = [i for i, x in enumerate(tr1[b'labels']) if x == 2]\n",
    "df1 = pd.DataFrame(tr1[b'data'][indices, :])\n",
    "\n",
    "tr2 = unpickle('../Data/data_batch_2')\n",
    "indices = [i for i, x in enumerate(tr2[b'labels']) if x == 2]\n",
    "df2 = pd.DataFrame(tr2[b'data'][indices, :])\n",
    "\n",
    "tr3 = unpickle('../Data/data_batch_3')\n",
    "indices = [i for i, x in enumerate(tr3[b'labels']) if x == 2]\n",
    "df3 = pd.DataFrame(tr3[b'data'][indices, :])\n",
    "\n",
    "tr4 = unpickle('../Data/data_batch_4')\n",
    "indices = [i for i, x in enumerate(tr4[b'labels']) if x == 2]\n",
    "df4 = pd.DataFrame(tr4[b'data'][indices, :])\n",
    "\n",
    "tr5 = unpickle('../Data/data_batch_5')\n",
    "indices = [i for i, x in enumerate(tr5[b'labels']) if x == 2]\n",
    "df5 = pd.DataFrame(tr5[b'data'][indices, :])\n",
    "\n",
    "te = unpickle('../Data/test_batch')\n",
    "indices = [i for i, x in enumerate(te[b'labels']) if x == 2]\n",
    "test_set = pd.DataFrame(te[b'data'][indices, :])\n",
    "\n",
    "frames = [df1, df2, df3, df4, df5, test_set]\n",
    "df = pd.concat(frames)\n",
    "df"
   ]
  },
  {
   "cell_type": "code",
   "execution_count": 146,
   "metadata": {},
   "outputs": [
    {
     "data": {
      "text/plain": [
       "(3, 6000, 1024)"
      ]
     },
     "execution_count": 146,
     "metadata": {},
     "output_type": "execute_result"
    }
   ],
   "source": [
    "df1 = df.iloc[:, :1024].to_numpy()\n",
    "df2 = df.iloc[:, 1024:2048].to_numpy()\n",
    "df3 = df.iloc[:, 2048:].to_numpy()\n",
    "final = np.stack((df1, df2, df3))\n",
    "final.shape"
   ]
  },
  {
   "cell_type": "markdown",
   "metadata": {},
   "source": [
    "## c) Subset at least 10% (not used)"
   ]
  },
  {
   "cell_type": "code",
   "execution_count": 7,
   "metadata": {},
   "outputs": [
    {
     "data": {
      "text/plain": [
       "(3, 6000, 103)"
      ]
     },
     "execution_count": 7,
     "metadata": {},
     "output_type": "execute_result"
    }
   ],
   "source": [
    "## OPTIONAL\n",
    "x = np.random.choice(1024, 103, replace=False)\n",
    "x1 = np.sort(x, axis=None)\n",
    "final1 = final[:, :, x1]\n",
    "final1.shape\n",
    "## OPTIONAL"
   ]
  },
  {
   "cell_type": "markdown",
   "metadata": {},
   "source": [
    "## d) K-Means Clustering (k=4)"
   ]
  },
  {
   "cell_type": "code",
   "execution_count": 126,
   "metadata": {},
   "outputs": [
    {
     "name": "stdout",
     "output_type": "stream",
     "text": [
      "[[ 49.41604903  50.39437982  38.8461895 ]\n",
      " [156.88743367 156.33209593 136.82035271]\n",
      " [109.73029587 109.32524296  83.27543384]\n",
      " [207.32268466 212.55456576 212.22584955]]\n"
     ]
    }
   ],
   "source": [
    "# d) k-means clustering (k=4)\n",
    "# Flatten 6000 and 1024\n",
    "final1 = final.reshape(3, 6144000).transpose()\n",
    "kmeans = KMeans(n_clusters=4)\n",
    "kmeans.fit(final1)\n",
    "print(kmeans.cluster_centers_)"
   ]
  },
  {
   "cell_type": "code",
   "execution_count": 5,
   "metadata": {},
   "outputs": [
    {
     "data": {
      "text/plain": [
       "array([[ 49.,  50.,  39.],\n",
       "       [157., 156., 137.],\n",
       "       [110., 109.,  83.],\n",
       "       [207., 213., 212.]])"
      ]
     },
     "execution_count": 5,
     "metadata": {},
     "output_type": "execute_result"
    }
   ],
   "source": [
    "# Don't want to rerun k-means clustering again so just gonna initialize from result above\n",
    "clusters = np.array([[ 49.41604903,  50.39437982,  38.8461895 ],\n",
    " [156.88743367, 156.33209593, 136.82035271],\n",
    " [109.73029587, 109.32524296,  83.27543384],\n",
    " [207.32268466, 212.55456576, 212.22584955]])\n",
    "clusters = np.around(clusters)\n",
    "clusters"
   ]
  },
  {
   "cell_type": "markdown",
   "metadata": {},
   "source": [
    "### Convert to colored images to the closest colour from those centroids"
   ]
  },
  {
   "cell_type": "code",
   "execution_count": 6,
   "metadata": {},
   "outputs": [
    {
     "data": {
      "text/plain": [
       "array([[[157, 110, 110, ..., 110, 110, 110],\n",
       "        [ 49,  49,  49, ...,  49,  49,  49],\n",
       "        [207, 207, 207, ..., 110, 110,  49],\n",
       "        ...,\n",
       "        [110, 110, 110, ..., 157, 207, 207],\n",
       "        [ 49,  49,  49, ..., 110, 110, 110],\n",
       "        [110, 157, 110, ..., 157, 157, 157]],\n",
       "\n",
       "       [[156, 109, 109, ..., 109, 109, 109],\n",
       "        [ 50,  50,  50, ...,  50,  50,  50],\n",
       "        [213, 213, 213, ..., 109, 109,  50],\n",
       "        ...,\n",
       "        [109, 109, 109, ..., 156, 213, 213],\n",
       "        [ 50,  50,  50, ..., 109, 109, 109],\n",
       "        [109, 156, 109, ..., 156, 156, 156]],\n",
       "\n",
       "       [[137,  83,  83, ...,  83,  83,  83],\n",
       "        [ 39,  39,  39, ...,  39,  39,  39],\n",
       "        [212, 212, 212, ...,  83,  83,  39],\n",
       "        ...,\n",
       "        [ 83,  83,  83, ..., 137, 212, 212],\n",
       "        [ 39,  39,  39, ...,  83,  83,  83],\n",
       "        [ 83, 137,  83, ..., 137, 137, 137]]], dtype=uint8)"
      ]
     },
     "execution_count": 6,
     "metadata": {},
     "output_type": "execute_result"
    }
   ],
   "source": [
    "# Convert to colored images to the closest colour from those centroids\n",
    "output = np.zeros(shape=(3, 6000, 1024))\n",
    "\n",
    "for i in range(6000):\n",
    "    for j in range(1024):\n",
    "        distances = []\n",
    "        for c in range(4):\n",
    "            distances.append(np.linalg.norm(clusters[c]-final[:, i, j]))\n",
    "        output[:, i, j] = clusters[np.argmin(distances)]\n",
    "\n",
    "output"
   ]
  },
  {
   "cell_type": "markdown",
   "metadata": {},
   "source": [
    "### One-hot Encoding for part f"
   ]
  },
  {
   "cell_type": "code",
   "execution_count": 8,
   "metadata": {},
   "outputs": [
    {
     "data": {
      "text/plain": [
       "array([[1., 2., 2., ..., 2., 2., 2.],\n",
       "       [0., 0., 0., ..., 0., 0., 0.],\n",
       "       [3., 3., 3., ..., 2., 2., 0.],\n",
       "       ...,\n",
       "       [2., 2., 2., ..., 1., 3., 3.],\n",
       "       [0., 0., 0., ..., 2., 2., 2.],\n",
       "       [2., 1., 2., ..., 1., 1., 1.]])"
      ]
     },
     "execution_count": 8,
     "metadata": {},
     "output_type": "execute_result"
    }
   ],
   "source": [
    "# One-hot encoding output\n",
    "output2 = np.zeros(shape=(6000,1024))\n",
    "for i in range(6000):\n",
    "    for j in range(1024):\n",
    "        distances = []\n",
    "        for c in range(4):\n",
    "            distances.append(np.linalg.norm(clusters[c]-final[:, i, j]))\n",
    "        output2[i, j] = np.argmin(distances)\n",
    "output2"
   ]
  },
  {
   "cell_type": "code",
   "execution_count": 9,
   "metadata": {},
   "outputs": [
    {
     "name": "stderr",
     "output_type": "stream",
     "text": [
      "/opt/anaconda3/lib/python3.7/site-packages/sklearn/preprocessing/_encoders.py:415: FutureWarning: The handling of integer data will change in version 0.22. Currently, the categories are determined based on the range [0, max(values)], while in the future they will be determined based on the unique values.\n",
      "If you want the future behaviour and silence this warning, you can specify \"categories='auto'\".\n",
      "In case you used a LabelEncoder before this OneHotEncoder to convert the categories to integers, then you can now use the OneHotEncoder directly.\n",
      "  warnings.warn(msg, FutureWarning)\n"
     ]
    }
   ],
   "source": [
    "from sklearn.preprocessing import OneHotEncoder\n",
    "oh = OneHotEncoder()\n",
    "x = oh.fit_transform(output2.reshape(6144000, 1)).toarray()\n",
    "x = x.reshape(6000, 1024, 4)"
   ]
  },
  {
   "cell_type": "code",
   "execution_count": 44,
   "metadata": {},
   "outputs": [
    {
     "data": {
      "text/plain": [
       "(1, 4096, 6000)"
      ]
     },
     "execution_count": 44,
     "metadata": {},
     "output_type": "execute_result"
    }
   ],
   "source": [
    "x1 = x[0, :, :].reshape(32, 32, 4).transpose(1, 0, 2).reshape(4096)\n",
    "for i in range(1,6000):\n",
    "    x1 = np.dstack((x1, x[i, :, :].reshape(32, 32, 4).transpose(1, 0, 2).reshape(4096)))\n",
    "x1.shape"
   ]
  },
  {
   "cell_type": "code",
   "execution_count": 76,
   "metadata": {},
   "outputs": [
    {
     "data": {
      "text/plain": [
       "(6000, 4096, 1)"
      ]
     },
     "execution_count": 76,
     "metadata": {},
     "output_type": "execute_result"
    }
   ],
   "source": [
    "x2 = x1.transpose()\n",
    "x2"
   ]
  },
  {
   "cell_type": "markdown",
   "metadata": {},
   "source": [
    "## e) Convert original images to grayscale"
   ]
  },
  {
   "cell_type": "code",
   "execution_count": 14,
   "metadata": {},
   "outputs": [],
   "source": [
    "gray = []\n",
    "for i in range(6000):\n",
    "    final1 = final[:, i, :].reshape(3, 32, 32).transpose()\n",
    "    grayscale = rgb2gray(final1)\n",
    "    gray.append(grayscale)"
   ]
  },
  {
   "cell_type": "code",
   "execution_count": 40,
   "metadata": {},
   "outputs": [
    {
     "data": {
      "text/plain": [
       "(32, 32, 6000)"
      ]
     },
     "execution_count": 40,
     "metadata": {},
     "output_type": "execute_result"
    }
   ],
   "source": [
    "# DON'T RERUN AGAIN\n",
    "final1 = final[:,0, :].reshape(3, 32, 32).transpose()\n",
    "dstack = rgb2gray(final1)\n",
    "for i in range(1,6000):\n",
    "    final1 = final[:, i, :].reshape(3, 32, 32).transpose()\n",
    "    dstack = np.dstack((dstack, rgb2gray(final1)))\n",
    "dstack.shape"
   ]
  },
  {
   "cell_type": "code",
   "execution_count": 65,
   "metadata": {},
   "outputs": [
    {
     "data": {
      "image/png": "[encoded data removed]",
      "text/plain": [
       "<Figure size 432x288 with 1 Axes>"
      ]
     },
     "metadata": {
      "needs_background": "light"
     },
     "output_type": "display_data"
    }
   ],
   "source": [
    "plt.imshow(dstack1[0, :, :], cmap='gray')\n",
    "plt.show()"
   ]
  },
  {
   "cell_type": "markdown",
   "metadata": {},
   "source": [
    "## f) Deep CNN"
   ]
  },
  {
   "cell_type": "code",
   "execution_count": 84,
   "metadata": {},
   "outputs": [
    {
     "data": {
      "text/plain": [
       "TensorShape([5000, 32, 32, 1])"
      ]
     },
     "execution_count": 84,
     "metadata": {},
     "output_type": "execute_result"
    }
   ],
   "source": [
    "X_train = tf.convert_to_tensor(dstack1[:5000, :, :, :])\n",
    "X_test = tf.convert_to_tensor(dstack1[5000:, :, :, :])\n",
    "y_train = tf.convert_to_tensor(x2[:5000, :, :])\n",
    "y_test = tf.convert_to_tensor(x2[5000:, :, :])"
   ]
  },
  {
   "cell_type": "code",
   "execution_count": 104,
   "metadata": {},
   "outputs": [],
   "source": [
    "def lossF(y_actual, y_pred):\n",
    "    loss = tf.nn.sigmoid_cross_entropy_with_logits(y_actual, y_pred)\n",
    "    return tf.reduce_mean(loss)"
   ]
  },
  {
   "cell_type": "code",
   "execution_count": 119,
   "metadata": {},
   "outputs": [
    {
     "name": "stdout",
     "output_type": "stream",
     "text": [
      "Model: \"sequential_44\"\n",
      "_________________________________________________________________\n",
      "Layer (type)                 Output Shape              Param #   \n",
      "=================================================================\n",
      "conv2d_82 (Conv2D)           (None, 28, 28, 32)        832       \n",
      "_________________________________________________________________\n",
      "conv2d_83 (Conv2D)           (None, 24, 24, 64)        51264     \n",
      "_________________________________________________________________\n",
      "flatten_37 (Flatten)         (None, 36864)             0         \n",
      "_________________________________________________________________\n",
      "dense_72 (Dense)             (None, 1000)              36865000  \n",
      "_________________________________________________________________\n",
      "dense_73 (Dense)             (None, 4096)              4100096   \n",
      "=================================================================\n",
      "Total params: 41,017,192\n",
      "Trainable params: 41,017,192\n",
      "Non-trainable params: 0\n",
      "_________________________________________________________________\n",
      "Train on 4500 samples, validate on 500 samples\n",
      "Epoch 1/30\n",
      "4500/4500 [==============================] - 19s 4ms/sample - loss: 0.5543 - val_loss: 0.4963\n",
      "Epoch 2/30\n",
      "4500/4500 [==============================] - 18s 4ms/sample - loss: 0.4643 - val_loss: 0.4236\n",
      "Epoch 3/30\n",
      "4500/4500 [==============================] - 17s 4ms/sample - loss: 0.4085 - val_loss: 0.3888\n",
      "Epoch 4/30\n",
      "4500/4500 [==============================] - 16s 4ms/sample - loss: 0.3740 - val_loss: 0.3620\n",
      "Epoch 5/30\n",
      "4500/4500 [==============================] - 16s 4ms/sample - loss: 0.3554 - val_loss: 0.3564\n",
      "Epoch 6/30\n",
      "4500/4500 [==============================] - 17s 4ms/sample - loss: 0.3399 - val_loss: 0.3411\n",
      "Epoch 7/30\n",
      "4500/4500 [==============================] - 16s 4ms/sample - loss: 0.3285 - val_loss: 0.3373\n",
      "Epoch 8/30\n",
      "4500/4500 [==============================] - 16s 4ms/sample - loss: 0.3184 - val_loss: 0.3301\n",
      "Epoch 9/30\n",
      "4500/4500 [==============================] - 16s 4ms/sample - loss: 0.3059 - val_loss: 0.3346\n",
      "Epoch 10/30\n",
      "4500/4500 [==============================] - 16s 4ms/sample - loss: 0.2994 - val_loss: 0.3251\n",
      "Epoch 11/30\n",
      "4500/4500 [==============================] - 17s 4ms/sample - loss: 0.2882 - val_loss: 0.3199\n",
      "Epoch 12/30\n",
      "4500/4500 [==============================] - 17s 4ms/sample - loss: 0.2776 - val_loss: 0.3148\n",
      "Epoch 13/30\n",
      "4500/4500 [==============================] - 16s 4ms/sample - loss: 0.2674 - val_loss: 0.3157\n",
      "Epoch 14/30\n",
      "4500/4500 [==============================] - 17s 4ms/sample - loss: 0.2597 - val_loss: 0.3160\n",
      "Epoch 15/30\n",
      "4500/4500 [==============================] - 16s 4ms/sample - loss: 0.2505 - val_loss: 0.3280\n",
      "Epoch 16/30\n",
      "4500/4500 [==============================] - 16s 4ms/sample - loss: 0.2431 - val_loss: 0.3229\n",
      "Epoch 17/30\n",
      "4500/4500 [==============================] - 17s 4ms/sample - loss: 0.2355 - val_loss: 0.3365\n",
      "Epoch 18/30\n",
      "4500/4500 [==============================] - 16s 4ms/sample - loss: 0.2269 - val_loss: 0.3232\n",
      "Epoch 19/30\n",
      "4500/4500 [==============================] - 17s 4ms/sample - loss: 0.2194 - val_loss: 0.3243\n",
      "Epoch 20/30\n",
      "4500/4500 [==============================] - 16s 4ms/sample - loss: 0.2116 - val_loss: 0.3306\n",
      "Epoch 21/30\n",
      "4500/4500 [==============================] - 17s 4ms/sample - loss: 0.2046 - val_loss: 0.3348\n",
      "Epoch 22/30\n",
      "4500/4500 [==============================] - 17s 4ms/sample - loss: 0.1991 - val_loss: 0.3396\n",
      "Epoch 23/30\n",
      "4500/4500 [==============================] - 17s 4ms/sample - loss: 0.1937 - val_loss: 0.3426\n",
      "Epoch 24/30\n",
      "4500/4500 [==============================] - 17s 4ms/sample - loss: 0.1879 - val_loss: 0.3438\n",
      "Epoch 25/30\n",
      "4500/4500 [==============================] - 17s 4ms/sample - loss: 0.1810 - val_loss: 0.3531\n",
      "Epoch 26/30\n",
      "4500/4500 [==============================] - 17s 4ms/sample - loss: 0.1747 - val_loss: 0.3621\n",
      "Epoch 27/30\n",
      "4500/4500 [==============================] - 17s 4ms/sample - loss: 0.1703 - val_loss: 0.3653\n",
      "Epoch 28/30\n",
      "4500/4500 [==============================] - 17s 4ms/sample - loss: 0.1643 - val_loss: 0.3691\n",
      "Epoch 29/30\n",
      "4500/4500 [==============================] - 17s 4ms/sample - loss: 0.1615 - val_loss: 0.3813\n",
      "Epoch 30/30\n",
      "4500/4500 [==============================] - 17s 4ms/sample - loss: 0.1600 - val_loss: 0.3799\n",
      "1000/1000 [==============================] - 1s 1ms/sample - loss: 0.3933\n",
      "0.39327561473846434\n"
     ]
    }
   ],
   "source": [
    "# - 5x5 layers\n",
    "# - softmax output layer\n",
    "# - use min of one max pooling\n",
    "\n",
    "# INPUT: dstack = 6000x32x32x1\n",
    "# OUTPUT: x2 = 6000x4096x1\n",
    "from tensorflow.keras import Sequential\n",
    "from tensorflow.keras import layers\n",
    "from tensorflow.keras import optimizers\n",
    "\n",
    "cnn = Sequential()\n",
    "cnn.add(layers.Conv2D(32, (5, 5), activation='relu', input_shape=(32, 32, 1)))\n",
    "#cnn.add(layers.MaxPooling2D((2, 2)))\n",
    "cnn.add(layers.Conv2D(64, (5, 5), activation='relu'))\n",
    "#cnn.add(layers.MaxPooling2D((2, 2)))\n",
    "cnn.add(layers.Flatten())\n",
    "# MLP\n",
    "cnn.add(layers.Dense(units=1000, input_dim = 1600, activation='relu'))\n",
    "cnn.add(layers.Dense(units=4096, input_dim = 1000, activation='linear'))\n",
    "cnn.summary()\n",
    "# compile model\n",
    "cnn.compile(optimizer='adam', loss=lossF) # loss='categorical_crossentropy'\n",
    "\n",
    "history = cnn.fit(X_train, y_train, batch_size=100, epochs=30, verbose=1, validation_split = 0.1)"
   ]
  },
  {
   "cell_type": "code",
   "execution_count": 121,
   "metadata": {},
   "outputs": [
    {
     "data": {
      "image/png": "[encoded data removed]",
      "text/plain": [
       "<Figure size 432x288 with 1 Axes>"
      ]
     },
     "metadata": {
      "needs_background": "light"
     },
     "output_type": "display_data"
    }
   ],
   "source": [
    "plt.plot(history.history['loss'])\n",
    "plt.plot(history.history['val_loss'])\n",
    "plt.title('model loss')\n",
    "plt.ylabel('loss')\n",
    "plt.xlabel('epoch')\n",
    "plt.legend(['train', 'test'], loc='upper left')\n",
    "plt.show()"
   ]
  },
  {
   "cell_type": "code",
   "execution_count": 141,
   "metadata": {},
   "outputs": [
    {
     "name": "stdout",
     "output_type": "stream",
     "text": [
      "1000/1000 [==============================] - 1s 1ms/sample - loss: 0.3933\n",
      "5000/5000 [==============================] - 5s 919us/sample - loss: 0.1721\n",
      "Test Error: 0.39327561473846434\n",
      "Train Error: 0.17206266150474547\n"
     ]
    }
   ],
   "source": [
    "results = cnn.evaluate(X_test, y_test)\n",
    "results1 = cnn.evaluate(X_train, y_train)\n",
    "print(\"Test Error: \" + str(results))\n",
    "print(\"Train Error: \" + str(results1))"
   ]
  },
  {
   "cell_type": "code",
   "execution_count": 135,
   "metadata": {},
   "outputs": [
    {
     "data": {
      "text/plain": [
       "array([[[[-4.59913683e+00,  1.46160614e+00, -1.03287065e+00,\n",
       "          -7.53100586e+00],\n",
       "         [-7.39882565e+00,  1.44367301e+00, -6.19724572e-01,\n",
       "          -6.72197151e+00],\n",
       "         [-5.43977308e+00, -1.34437251e+00,  1.02616775e+00,\n",
       "          -7.91190577e+00],\n",
       "         ...,\n",
       "         [-7.27824593e+00,  4.81239483e-02, -4.53911722e-01,\n",
       "          -6.07722473e+00],\n",
       "         [-6.42656326e+00,  1.57509625e+00, -9.79432642e-01,\n",
       "          -6.53170776e+00],\n",
       "         [-6.84362507e+00,  1.69719148e+00,  1.48066729e-01,\n",
       "          -7.15155363e+00]],\n",
       "\n",
       "        [[-6.05864286e+00, -9.64996397e-01,  1.34274626e+00,\n",
       "          -7.15550280e+00],\n",
       "         [-7.36246538e+00, -1.05948567e+00,  1.80341971e+00,\n",
       "          -6.76447296e+00],\n",
       "         [-7.63508320e+00, -8.07110488e-01,  1.03707206e+00,\n",
       "          -7.16982651e+00],\n",
       "         ...,\n",
       "         [-5.26226425e+00,  3.97030324e-01,  5.14970541e-01,\n",
       "          -1.23273325e+01],\n",
       "         [-4.33530331e+00, -1.31219089e-01, -6.31356478e-01,\n",
       "          -5.37300014e+00],\n",
       "         [-6.28811836e+00,  3.41314554e-01,  2.10046113e-01,\n",
       "          -7.26712227e+00]],\n",
       "\n",
       "        [[-6.61888123e+00, -1.09774518e+00,  1.32783628e+00,\n",
       "          -5.85766315e+00],\n",
       "         [-8.15369034e+00,  4.09172475e-01,  1.41935810e-01,\n",
       "          -5.60674524e+00],\n",
       "         [-8.84237766e+00, -1.56204247e+00,  8.79129708e-01,\n",
       "          -6.13828135e+00],\n",
       "         ...,\n",
       "         [-3.34947348e+00, -1.47985423e+00,  1.55044794e+00,\n",
       "          -1.30805683e+01],\n",
       "         [-6.04256344e+00, -1.75233006e+00,  9.18365121e-01,\n",
       "          -1.05971069e+01],\n",
       "         [-5.75213099e+00, -1.70851409e+00,  1.82510042e+00,\n",
       "          -6.47554588e+00]],\n",
       "\n",
       "        ...,\n",
       "\n",
       "        [[-5.72400427e+00, -1.46561015e+00,  1.98825443e+00,\n",
       "          -6.73050070e+00],\n",
       "         [-4.98948956e+00, -3.04873705e+00,  1.73661649e+00,\n",
       "          -5.79525089e+00],\n",
       "         [-6.87204742e+00, -2.11833644e+00,  2.91793585e+00,\n",
       "          -9.40530872e+00],\n",
       "         ...,\n",
       "         [-4.47661257e+00, -4.99653244e+00,  3.74731159e+00,\n",
       "          -1.51690426e+01],\n",
       "         [-5.83522797e+00, -5.85488176e+00,  4.84869242e+00,\n",
       "          -1.07939949e+01],\n",
       "         [-3.32946444e+00, -6.00316668e+00,  3.77169108e+00,\n",
       "          -8.29852581e+00]],\n",
       "\n",
       "        [[-6.49117279e+00, -2.81833434e+00,  1.92189348e+00,\n",
       "          -5.47623062e+00],\n",
       "         [-6.37108374e+00, -2.93001056e+00,  1.71838522e+00,\n",
       "          -6.32595062e+00],\n",
       "         [-7.12994242e+00, -2.97878671e+00,  4.08174515e+00,\n",
       "          -8.47154808e+00],\n",
       "         ...,\n",
       "         [-6.92577839e+00, -3.13970137e+00,  3.61636209e+00,\n",
       "          -1.11636534e+01],\n",
       "         [-4.44024515e+00, -4.79744196e+00,  4.15621614e+00,\n",
       "          -1.23388414e+01],\n",
       "         [-3.12854266e+00, -4.80086994e+00,  2.53248620e+00,\n",
       "          -9.03830528e+00]],\n",
       "\n",
       "        [[-4.14732313e+00, -3.26663065e+00,  4.95135337e-01,\n",
       "          -2.23872995e+00],\n",
       "         [-3.79200840e+00, -4.30454636e+00,  1.56471455e+00,\n",
       "          -1.71508646e+00],\n",
       "         [-2.43762136e+00, -3.83516693e+00,  1.11346543e+00,\n",
       "          -4.26339912e+00],\n",
       "         ...,\n",
       "         [-5.59991884e+00, -4.26821041e+00,  4.16611242e+00,\n",
       "          -1.11481276e+01],\n",
       "         [-4.80975437e+00, -5.02753830e+00,  3.09236741e+00,\n",
       "          -8.77065372e+00],\n",
       "         [-2.79909945e+00, -4.79441023e+00,  2.08917475e+00,\n",
       "          -7.66200018e+00]]],\n",
       "\n",
       "\n",
       "       [[[ 5.05423307e+00, -8.30759811e+00, -5.46344376e+00,\n",
       "          -8.78481102e+00],\n",
       "         [ 5.24303675e+00, -1.04057474e+01, -7.23463583e+00,\n",
       "          -9.85712624e+00],\n",
       "         [ 8.34592628e+00, -1.14226179e+01, -6.32462502e+00,\n",
       "          -6.89219236e+00],\n",
       "         ...,\n",
       "         [-2.92845964e+00, -2.99519539e+00, -3.28440595e+00,\n",
       "           3.98133779e+00],\n",
       "         [-4.80742311e+00, -4.12109709e+00, -2.47040057e+00,\n",
       "           6.50834942e+00],\n",
       "         [-3.33936501e+00, -3.65641618e+00, -3.75979400e+00,\n",
       "           3.70924306e+00]],\n",
       "\n",
       "        [[ 7.02156782e+00, -1.16445627e+01, -6.63590240e+00,\n",
       "          -7.49098635e+00],\n",
       "         [ 7.59802580e+00, -1.23909521e+01, -6.24716902e+00,\n",
       "          -1.21813736e+01],\n",
       "         [ 7.43532372e+00, -1.39358530e+01, -4.02812099e+00,\n",
       "          -7.89019156e+00],\n",
       "         ...,\n",
       "         [-2.43000317e+00, -2.31289935e+00, -4.91525936e+00,\n",
       "           7.14408493e+00],\n",
       "         [-6.54735756e+00, -4.13734055e+00, -2.83448577e+00,\n",
       "           7.01211071e+00],\n",
       "         [-6.42573547e+00, -4.53354740e+00, -2.71620488e+00,\n",
       "           6.77462721e+00]],\n",
       "\n",
       "        [[ 6.61221313e+00, -1.25633354e+01, -6.58787584e+00,\n",
       "          -7.17340136e+00],\n",
       "         [ 4.64559078e+00, -1.22973604e+01, -4.79473925e+00,\n",
       "          -8.12182903e+00],\n",
       "         [ 5.57385540e+00, -1.19918842e+01, -4.27705812e+00,\n",
       "          -1.37262859e+01],\n",
       "         ...,\n",
       "         [-5.53754854e+00, -2.21125841e+00, -4.04586744e+00,\n",
       "           6.84763765e+00],\n",
       "         [-6.66458559e+00, -1.49730551e+00, -4.43286467e+00,\n",
       "           4.60216713e+00],\n",
       "         [-5.47322273e+00, -6.77897596e+00, -3.77941990e+00,\n",
       "           9.68419456e+00]],\n",
       "\n",
       "        ...,\n",
       "\n",
       "        [[ 6.34533882e+00, -1.11209927e+01, -9.52036095e+00,\n",
       "          -1.14287214e+01],\n",
       "         [ 1.01724739e+01, -1.15288401e+01, -1.28163319e+01,\n",
       "          -1.65855751e+01],\n",
       "         [ 7.35702467e+00, -1.25377541e+01, -8.16243839e+00,\n",
       "          -2.18942223e+01],\n",
       "         ...,\n",
       "         [ 9.29123592e+00, -8.18336868e+00, -4.85413933e+00,\n",
       "          -1.42602787e+01],\n",
       "         [ 7.74989796e+00, -1.05209007e+01, -2.38759613e+00,\n",
       "          -1.38215065e+01],\n",
       "         [ 4.36777544e+00, -7.82907152e+00, -4.45904827e+00,\n",
       "          -6.76534748e+00]],\n",
       "\n",
       "        [[ 6.04548550e+00, -1.08701248e+01, -8.46362972e+00,\n",
       "          -9.39515877e+00],\n",
       "         [ 8.68982315e+00, -1.10382500e+01, -1.26128931e+01,\n",
       "          -1.21328287e+01],\n",
       "         [ 1.00290356e+01, -1.06031122e+01, -1.10925789e+01,\n",
       "          -1.79940453e+01],\n",
       "         ...,\n",
       "         [ 7.28203201e+00, -1.03467007e+01, -3.29163122e+00,\n",
       "          -5.21641922e+00],\n",
       "         [ 8.22067070e+00, -9.43270588e+00, -4.17595291e+00,\n",
       "          -7.95104647e+00],\n",
       "         [ 4.47964334e+00, -8.63339329e+00, -4.35754585e+00,\n",
       "          -4.71161318e+00]],\n",
       "\n",
       "        [[ 2.79715538e+00, -6.69298553e+00, -7.54575300e+00,\n",
       "          -8.54370499e+00],\n",
       "         [ 4.34136772e+00, -9.66981602e+00, -7.50513411e+00,\n",
       "          -1.28999920e+01],\n",
       "         [ 3.74616647e+00, -1.16772709e+01, -6.02778864e+00,\n",
       "          -1.40833645e+01],\n",
       "         ...,\n",
       "         [ 5.99131918e+00, -8.72778416e+00, -3.44656920e+00,\n",
       "          -6.57539272e+00],\n",
       "         [ 6.54819107e+00, -7.50739765e+00, -3.52628970e+00,\n",
       "          -7.72424078e+00],\n",
       "         [ 2.59276390e+00, -6.48378229e+00, -3.45445395e+00,\n",
       "          -5.04070807e+00]]],\n",
       "\n",
       "\n",
       "       [[[-1.05692720e+01, -1.13698089e+00, -4.21112967e+00,\n",
       "           1.93743837e+00],\n",
       "         [-6.36827755e+00, -1.00560558e+00, -4.10119772e+00,\n",
       "           8.59938920e-01],\n",
       "         [-9.32995605e+00, -8.38623643e-01, -3.40532136e+00,\n",
       "           1.94686389e+00],\n",
       "         ...,\n",
       "         [-8.06857204e+00,  1.09174597e+00, -4.34556198e+00,\n",
       "          -6.61617041e+00],\n",
       "         [-7.45625162e+00,  2.37629509e+00, -4.47033501e+00,\n",
       "          -4.54926491e+00],\n",
       "         [-5.82799673e+00,  2.61729908e+00, -4.55103397e+00,\n",
       "          -5.21738911e+00]],\n",
       "\n",
       "        [[-1.01033926e+01, -7.18018934e-02, -5.08544111e+00,\n",
       "           3.25181890e+00],\n",
       "         [-1.00541725e+01, -7.94367909e-01, -2.51280951e+00,\n",
       "           2.09087610e+00],\n",
       "         [-6.12843943e+00, -1.91136622e+00, -3.59004807e+00,\n",
       "           4.15356588e+00],\n",
       "         ...,\n",
       "         [-7.99708414e+00,  3.01094890e+00, -6.31172514e+00,\n",
       "          -7.42994738e+00],\n",
       "         [-1.03779383e+01,  2.56253648e+00, -4.23664665e+00,\n",
       "          -5.35947561e+00],\n",
       "         [-6.56337738e+00,  1.87391353e+00, -4.53589487e+00,\n",
       "          -3.81130457e+00]],\n",
       "\n",
       "        [[-1.45806437e+01,  8.20282221e-01, -3.95750833e+00,\n",
       "           3.33655787e+00],\n",
       "         [-8.44209003e+00, -4.83167470e-01, -3.86909819e+00,\n",
       "           4.81969166e+00],\n",
       "         [-1.58162796e+00, -1.00819278e+00, -6.23818445e+00,\n",
       "           4.26734257e+00],\n",
       "         ...,\n",
       "         [-6.54956341e+00,  1.85281301e+00, -5.19298983e+00,\n",
       "          -8.09927559e+00],\n",
       "         [-8.05179882e+00,  2.18670204e-01, -3.96844196e+00,\n",
       "          -4.48088884e+00],\n",
       "         [-5.25733232e+00,  2.62349677e+00, -5.44198370e+00,\n",
       "          -4.51622677e+00]],\n",
       "\n",
       "        ...,\n",
       "\n",
       "        [[-5.90824366e+00, -6.05665350e+00, -7.38206434e+00,\n",
       "           7.00483990e+00],\n",
       "         [-7.04583454e+00, -6.02672005e+00, -1.00778379e+01,\n",
       "           8.51551151e+00],\n",
       "         [-9.42269039e+00, -7.25223970e+00, -6.99642849e+00,\n",
       "           7.51140690e+00],\n",
       "         ...,\n",
       "         [-2.70775151e+00, -7.42170429e+00,  2.96240854e+00,\n",
       "          -7.82662916e+00],\n",
       "         [-3.02382374e+00, -5.85589075e+00,  9.34584618e-01,\n",
       "          -7.32799911e+00],\n",
       "         [-1.47130930e+00, -1.81718493e+00, -1.68999225e-01,\n",
       "          -8.70222282e+00]],\n",
       "\n",
       "        [[-1.05336351e+01, -5.70831728e+00, -6.60317945e+00,\n",
       "           7.64990711e+00],\n",
       "         [-1.11497822e+01, -2.54078984e+00, -9.87781715e+00,\n",
       "           6.55310631e+00],\n",
       "         [-6.72299862e+00, -3.68314934e+00, -1.00936136e+01,\n",
       "           5.02210188e+00],\n",
       "         ...,\n",
       "         [-2.02394538e-02, -5.64316654e+00,  1.01874375e+00,\n",
       "          -7.56942987e+00],\n",
       "         [-3.27962786e-01, -7.05409956e+00,  9.78886068e-01,\n",
       "          -5.34210825e+00],\n",
       "         [-5.67565024e-01, -3.23391485e+00, -1.93698287e+00,\n",
       "          -6.30537939e+00]],\n",
       "\n",
       "        [[-8.85785675e+00, -2.48153281e+00, -8.83187580e+00,\n",
       "           5.47112274e+00],\n",
       "         [-9.49308586e+00, -3.06846070e+00, -7.56301165e+00,\n",
       "           4.52792120e+00],\n",
       "         [-9.18353653e+00, -3.85542250e+00, -8.03666592e+00,\n",
       "           4.93826151e+00],\n",
       "         ...,\n",
       "         [-4.69046354e-01, -6.19221830e+00,  1.46675217e+00,\n",
       "          -6.10304785e+00],\n",
       "         [-1.43018484e+00, -4.70990896e+00,  6.95140600e-01,\n",
       "          -7.77904224e+00],\n",
       "         [ 1.92157674e+00, -3.79991078e+00, -2.26354098e+00,\n",
       "          -8.65499783e+00]]],\n",
       "\n",
       "\n",
       "       ...,\n",
       "\n",
       "\n",
       "       [[[-6.19083166e+00, -6.27546978e+00,  4.16080332e+00,\n",
       "          -8.00174332e+00],\n",
       "         [-6.07562637e+00, -8.23626518e+00,  4.17978430e+00,\n",
       "          -8.29828739e+00],\n",
       "         [-7.32111788e+00, -8.56804943e+00,  4.78412247e+00,\n",
       "          -9.48940849e+00],\n",
       "         ...,\n",
       "         [-9.34332943e+00,  7.91183233e-01, -1.97762156e+00,\n",
       "           1.04103935e+00],\n",
       "         [-8.87560368e+00,  1.78090215e+00, -3.22345877e+00,\n",
       "          -2.77520394e+00],\n",
       "         [-8.03926754e+00,  6.33546293e-01, -2.92979527e+00,\n",
       "          -3.24193805e-01]],\n",
       "\n",
       "        [[-6.49348259e+00, -6.39191961e+00,  3.38561392e+00,\n",
       "          -8.81602001e+00],\n",
       "         [-5.65076160e+00, -9.34585285e+00,  3.71074295e+00,\n",
       "          -7.36390638e+00],\n",
       "         [-6.44537544e+00, -1.12170582e+01,  6.29663754e+00,\n",
       "          -7.86134386e+00],\n",
       "         ...,\n",
       "         [-1.07260122e+01,  4.91361946e-01, -1.91528010e+00,\n",
       "           1.02746978e-01],\n",
       "         [-8.21868706e+00,  1.16964674e+00, -3.47960401e+00,\n",
       "          -5.00385821e-01],\n",
       "         [-7.84062243e+00,  3.24400276e-01, -2.97131896e+00,\n",
       "          -2.05881119e-01]],\n",
       "\n",
       "        [[-6.89698553e+00, -8.07180500e+00,  4.48526907e+00,\n",
       "          -9.97557640e+00],\n",
       "         [-5.17298031e+00, -9.13700771e+00,  4.69103432e+00,\n",
       "          -9.74640083e+00],\n",
       "         [-5.96466923e+00, -1.13645773e+01,  4.76570940e+00,\n",
       "          -1.05867825e+01],\n",
       "         ...,\n",
       "         [-1.22526169e+01,  5.75243160e-02, -2.67322516e+00,\n",
       "          -9.97205615e-01],\n",
       "         [-9.43823624e+00,  2.68417835e-01, -4.40093660e+00,\n",
       "          -3.24592561e-01],\n",
       "         [-8.30036640e+00,  6.55771494e-01, -3.66908741e+00,\n",
       "          -7.50840902e-01]],\n",
       "\n",
       "        ...,\n",
       "\n",
       "        [[-4.35746527e+00, -9.70063972e+00,  7.68479919e+00,\n",
       "          -9.74176216e+00],\n",
       "         [-2.29806876e+00, -1.02584076e+01,  6.91376686e+00,\n",
       "          -1.52019987e+01],\n",
       "         [-1.55758405e+00, -1.06709118e+01,  6.12249708e+00,\n",
       "          -1.54905195e+01],\n",
       "         ...,\n",
       "         [-1.02142897e+01,  2.34674263e+00, -7.02713013e+00,\n",
       "           1.69956851e+00],\n",
       "         [-7.68842077e+00,  9.65594351e-01, -6.98879528e+00,\n",
       "           7.51940966e-01],\n",
       "         [-8.63111019e+00,  2.00703406e+00, -6.44918919e+00,\n",
       "          -1.55318713e+00]],\n",
       "\n",
       "        [[-4.91531706e+00, -8.33610058e+00,  6.78296947e+00,\n",
       "          -9.04951572e+00],\n",
       "         [-2.71385765e+00, -1.04213238e+01,  7.05392790e+00,\n",
       "          -1.27907896e+01],\n",
       "         [-2.09764242e+00, -1.01877422e+01,  6.82583332e+00,\n",
       "          -1.30843782e+01],\n",
       "         ...,\n",
       "         [-1.09991913e+01,  2.15405679e+00, -5.68084335e+00,\n",
       "           7.20278561e-01],\n",
       "         [-8.46742630e+00,  2.27505803e+00, -5.91006613e+00,\n",
       "          -1.41718090e-01],\n",
       "         [-7.88754177e+00,  2.07199097e+00, -6.29414892e+00,\n",
       "          -1.15412462e+00]],\n",
       "\n",
       "        [[-4.34453058e+00, -7.53354549e+00,  5.45980930e+00,\n",
       "          -8.46486568e+00],\n",
       "         [-1.74517155e+00, -8.03386879e+00,  4.67884493e+00,\n",
       "          -9.04956627e+00],\n",
       "         [-3.67623115e+00, -7.94751310e+00,  6.04070044e+00,\n",
       "          -1.31852045e+01],\n",
       "         ...,\n",
       "         [-8.89624023e+00,  1.51128590e+00, -5.09917259e+00,\n",
       "           3.27103662e+00],\n",
       "         [-8.96485233e+00,  1.06295729e+00, -3.85660481e+00,\n",
       "          -9.03508544e-01],\n",
       "         [-7.26634693e+00,  1.77661467e+00, -4.14257240e+00,\n",
       "          -2.52782774e+00]]],\n",
       "\n",
       "\n",
       "       [[[ 8.12752533e+00, -6.71342802e+00, -4.31121874e+00,\n",
       "          -9.71279621e+00],\n",
       "         [ 1.12687063e+01, -8.86568642e+00, -6.81111336e+00,\n",
       "          -1.18383656e+01],\n",
       "         [ 1.20591040e+01, -8.96290684e+00, -7.31053019e+00,\n",
       "          -1.24478493e+01],\n",
       "         ...,\n",
       "         [-2.50160277e-01, -1.56770790e+00, -5.07134056e+00,\n",
       "          -3.59138727e+00],\n",
       "         [-4.55502129e+00, -3.85623407e+00, -2.87620521e+00,\n",
       "          -1.80772746e+00],\n",
       "         [-4.15261412e+00, -3.36683655e+00, -2.58549643e+00,\n",
       "           8.60528111e-01]],\n",
       "\n",
       "        [[ 8.32315922e+00, -8.23995209e+00, -5.10707617e+00,\n",
       "          -8.88523769e+00],\n",
       "         [ 1.24207191e+01, -1.00785666e+01, -7.40355492e+00,\n",
       "          -1.12983809e+01],\n",
       "         [ 1.28671980e+01, -7.25549173e+00, -8.26148033e+00,\n",
       "          -1.18631706e+01],\n",
       "         ...,\n",
       "         [-6.90840006e+00, -1.05316067e+00, -2.71460629e+00,\n",
       "          -1.50701869e+00],\n",
       "         [-7.78460264e+00, -1.96466327e+00, -2.49858022e+00,\n",
       "          -5.95647633e-01],\n",
       "         [-4.57517815e+00, -4.35163498e+00, -2.91044998e+00,\n",
       "           2.42333269e+00]],\n",
       "\n",
       "        [[ 1.05464678e+01, -9.32654667e+00, -5.50735044e+00,\n",
       "          -9.07246590e+00],\n",
       "         [ 1.23526621e+01, -8.91996670e+00, -7.03602743e+00,\n",
       "          -9.11885071e+00],\n",
       "         [ 1.10236225e+01, -7.65104342e+00, -7.41933775e+00,\n",
       "          -1.43739233e+01],\n",
       "         ...,\n",
       "         [-8.52027321e+00, -3.44041228e-01, -4.29218340e+00,\n",
       "           1.10333756e-01],\n",
       "         [-5.10723972e+00, -1.50346303e+00, -5.31933355e+00,\n",
       "           1.05379367e+00],\n",
       "         [-4.80509424e+00, -3.24652076e+00, -3.77706933e+00,\n",
       "           1.63811338e+00]],\n",
       "\n",
       "        ...,\n",
       "\n",
       "        [[ 8.26060712e-01, -5.57701206e+00,  6.99670136e-01,\n",
       "          -1.46749649e+01],\n",
       "         [ 4.71958590e+00, -5.04765320e+00, -2.44415212e+00,\n",
       "          -1.40428143e+01],\n",
       "         [ 2.31879187e+00, -6.97421932e+00, -2.03174400e+00,\n",
       "          -8.92285633e+00],\n",
       "         ...,\n",
       "         [-3.09931135e+00,  1.58852935e+00, -3.24246073e+00,\n",
       "          -9.90203094e+00],\n",
       "         [-3.57834053e+00, -2.41952038e+00, -4.00047600e-01,\n",
       "          -3.18208289e+00],\n",
       "         [-4.01547194e+00, -1.32276320e+00, -1.97468555e+00,\n",
       "          -2.89802527e+00]],\n",
       "\n",
       "        [[ 4.08998585e+00, -7.61998034e+00, -2.23508403e-01,\n",
       "          -1.41449442e+01],\n",
       "         [ 6.21740675e+00, -7.16554117e+00, -2.81532621e+00,\n",
       "          -1.38440962e+01],\n",
       "         [ 5.08755445e+00, -3.33113790e+00, -4.86996794e+00,\n",
       "          -1.27851906e+01],\n",
       "         ...,\n",
       "         [-3.89177799e+00,  2.08664894e+00, -2.36267185e+00,\n",
       "          -9.28894424e+00],\n",
       "         [-7.00711191e-01, -8.31976891e-01, -3.88163447e+00,\n",
       "          -3.29473662e+00],\n",
       "         [-2.39535260e+00,  3.79838824e-01, -4.28708887e+00,\n",
       "          -2.67896676e+00]],\n",
       "\n",
       "        [[ 4.00725985e+00, -8.06865215e+00, -1.39727569e+00,\n",
       "          -9.38083363e+00],\n",
       "         [ 4.29851103e+00, -7.41904974e+00, -1.63368511e+00,\n",
       "          -1.22021494e+01],\n",
       "         [ 4.97737408e+00, -7.27689505e+00, -3.09189510e+00,\n",
       "          -1.16177359e+01],\n",
       "         ...,\n",
       "         [-2.35729933e+00,  2.93030500e-01, -2.15994859e+00,\n",
       "          -7.50576210e+00],\n",
       "         [-1.47894049e+00, -3.54178071e+00, -2.86586374e-01,\n",
       "          -4.62469912e+00],\n",
       "         [-1.24849987e+00, -7.50572383e-01, -2.86764574e+00,\n",
       "          -3.77026200e+00]]],\n",
       "\n",
       "\n",
       "       [[[-3.96883535e+00, -9.65646088e-01, -1.67519581e+00,\n",
       "          -2.52591372e+00],\n",
       "         [-4.70244884e+00,  3.09340209e-01, -2.05110741e+00,\n",
       "          -4.27619696e+00],\n",
       "         [-2.51799703e+00, -5.79473376e-01, -1.47527504e+00,\n",
       "          -4.85332918e+00],\n",
       "         ...,\n",
       "         [-7.42924595e+00,  1.05729926e+00, -5.74586535e+00,\n",
       "          -3.35182142e+00],\n",
       "         [-6.98848820e+00,  1.98810530e+00, -7.06324291e+00,\n",
       "          -3.75776410e+00],\n",
       "         [-6.29592180e+00,  1.45548666e+00, -4.39374161e+00,\n",
       "          -4.20394945e+00]],\n",
       "\n",
       "        [[-2.25030112e+00, -1.17419970e+00, -2.17134500e+00,\n",
       "          -5.81835091e-01],\n",
       "         [-3.62431431e+00,  1.02872479e+00, -3.15222621e+00,\n",
       "          -2.89961529e+00],\n",
       "         [-4.31730175e+00,  1.07633317e+00, -3.11258340e+00,\n",
       "          -4.23579073e+00],\n",
       "         ...,\n",
       "         [-8.25843620e+00,  1.99247956e+00, -7.17673159e+00,\n",
       "          -2.50758505e+00],\n",
       "         [-7.97022390e+00,  2.33368731e+00, -6.17749262e+00,\n",
       "          -5.09774733e+00],\n",
       "         [-5.79893827e+00,  7.70046592e-01, -4.35540533e+00,\n",
       "          -4.40377855e+00]],\n",
       "\n",
       "        [[-3.22918296e+00, -1.12894464e+00, -2.48770523e+00,\n",
       "          -1.92798400e+00],\n",
       "         [-2.86327672e+00, -8.39820325e-01, -3.06850934e+00,\n",
       "          -1.07022655e+00],\n",
       "         [-3.76131225e+00,  5.46912789e-01, -3.38724923e+00,\n",
       "          -4.57658243e+00],\n",
       "         ...,\n",
       "         [-8.53149223e+00,  2.31034923e+00, -8.51883793e+00,\n",
       "          -2.99959207e+00],\n",
       "         [-7.59743214e+00, -5.08884847e-01, -5.77422094e+00,\n",
       "          -2.83670473e+00],\n",
       "         [-5.50617981e+00, -1.05538690e+00, -4.05917358e+00,\n",
       "          -2.85297418e+00]],\n",
       "\n",
       "        ...,\n",
       "\n",
       "        [[ 3.85485816e+00, -6.96564722e+00, -5.53844976e+00,\n",
       "          -7.33280945e+00],\n",
       "         [ 3.54403043e+00, -1.14734125e+01, -4.58876467e+00,\n",
       "          -1.01080256e+01],\n",
       "         [ 4.82385731e+00, -1.07058811e+01, -5.33535814e+00,\n",
       "          -1.01179447e+01],\n",
       "         ...,\n",
       "         [-7.55158567e+00, -1.88122594e+00,  4.19552684e-01,\n",
       "          -3.03352189e+00],\n",
       "         [-8.55068970e+00, -2.16260147e+00,  8.75028610e-01,\n",
       "          -5.57057142e+00],\n",
       "         [-6.94774342e+00, -3.03756404e+00,  1.46260393e+00,\n",
       "          -3.89756322e+00]],\n",
       "\n",
       "        [[ 3.28277993e+00, -7.74563360e+00, -6.31140900e+00,\n",
       "          -5.06752682e+00],\n",
       "         [ 2.54633641e+00, -7.78422976e+00, -5.70467472e+00,\n",
       "          -8.20184994e+00],\n",
       "         [ 1.63433611e+00, -7.37152195e+00, -6.67025757e+00,\n",
       "          -8.88640404e+00],\n",
       "         ...,\n",
       "         [-8.26232243e+00, -1.59786391e+00,  1.81839615e-01,\n",
       "          -1.38894546e+00],\n",
       "         [-6.14517355e+00, -3.10942268e+00, -2.79576153e-01,\n",
       "          -2.96814114e-01],\n",
       "         [-7.48801327e+00, -2.58247399e+00,  1.30072069e+00,\n",
       "          -3.27094674e+00]],\n",
       "\n",
       "        [[ 2.41929793e+00, -6.25582218e+00, -5.29814768e+00,\n",
       "          -3.54738975e+00],\n",
       "         [ 1.51024210e+00, -8.56969070e+00, -4.75165367e+00,\n",
       "          -5.61887264e+00],\n",
       "         [-5.09573579e-01, -8.03907871e+00, -4.88511658e+00,\n",
       "          -7.16380930e+00],\n",
       "         ...,\n",
       "         [-6.03552008e+00, -2.81002909e-01, -1.06288159e+00,\n",
       "          -2.50912070e+00],\n",
       "         [-9.02368546e+00, -1.97264075e+00,  1.25298095e+00,\n",
       "          -2.53001094e+00],\n",
       "         [-8.01407909e+00, -1.82213449e+00,  8.80991876e-01,\n",
       "          -2.73520446e+00]]]], dtype=float32)"
      ]
     },
     "execution_count": 135,
     "metadata": {},
     "output_type": "execute_result"
    }
   ],
   "source": [
    "image0 = cnn.predict(tf.convert_to_tensor(dstack1))\n",
    "image0 = image0.reshape(6000, 32, 32, 4)\n",
    "image0"
   ]
  },
  {
   "cell_type": "markdown",
   "metadata": {},
   "source": [
    "## Comparison with Original (first 10)"
   ]
  },
  {
   "cell_type": "code",
   "execution_count": 142,
   "metadata": {},
   "outputs": [
    {
     "data": {
      "image/png": "[encoded data removed]",
      "text/plain": [
       "<Figure size 432x288 with 1 Axes>"
      ]
     },
     "metadata": {
      "needs_background": "light"
     },
     "output_type": "display_data"
    },
    {
     "data": {
      "image/png": "[encoded data removed]",
      "text/plain": [
       "<Figure size 432x288 with 1 Axes>"
      ]
     },
     "metadata": {
      "needs_background": "light"
     },
     "output_type": "display_data"
    },
    {
     "data": {
      "image/png": "[encoded data removed]",
      "text/plain": [
       "<Figure size 432x288 with 1 Axes>"
      ]
     },
     "metadata": {
      "needs_background": "light"
     },
     "output_type": "display_data"
    },
    {
     "data": {
      "image/png": "[encoded data removed]",
      "text/plain": [
       "<Figure size 432x288 with 1 Axes>"
      ]
     },
     "metadata": {
      "needs_background": "light"
     },
     "output_type": "display_data"
    },
    {
     "data": {
      "image/png": "[encoded data removed]",
      "text/plain": [
       "<Figure size 432x288 with 1 Axes>"
      ]
     },
     "metadata": {
      "needs_background": "light"
     },
     "output_type": "display_data"
    },
    {
     "data": {
      "image/png": "[encoded data removed]",
      "text/plain": [
       "<Figure size 432x288 with 1 Axes>"
      ]
     },
     "metadata": {
      "needs_background": "light"
     },
     "output_type": "display_data"
    },
    {
     "data": {
      "image/png": "[encoded data removed]",
      "text/plain": [
       "<Figure size 432x288 with 1 Axes>"
      ]
     },
     "metadata": {
      "needs_background": "light"
     },
     "output_type": "display_data"
    },
    {
     "data": {
      "image/png": "[encoded data removed]",
      "text/plain": [
       "<Figure size 432x288 with 1 Axes>"
      ]
     },
     "metadata": {
      "needs_background": "light"
     },
     "output_type": "display_data"
    },
    {
     "data": {
      "image/png": "[encoded data removed]",
      "text/plain": [
       "<Figure size 432x288 with 1 Axes>"
      ]
     },
     "metadata": {
      "needs_background": "light"
     },
     "output_type": "display_data"
    },
    {
     "data": {
      "image/png": "[encoded data removed]",
      "text/plain": [
       "<Figure size 432x288 with 1 Axes>"
      ]
     },
     "metadata": {
      "needs_background": "light"
     },
     "output_type": "display_data"
    },
    {
     "data": {
      "image/png": "[encoded data removed]",
      "text/plain": [
       "<Figure size 432x288 with 1 Axes>"
      ]
     },
     "metadata": {
      "needs_background": "light"
     },
     "output_type": "display_data"
    },
    {
     "data": {
      "image/png": "[encoded data removed]",
      "text/plain": [
       "<Figure size 432x288 with 1 Axes>"
      ]
     },
     "metadata": {
      "needs_background": "light"
     },
     "output_type": "display_data"
    },
    {
     "data": {
      "image/png": "[encoded data removed]",
      "text/plain": [
       "<Figure size 432x288 with 1 Axes>"
      ]
     },
     "metadata": {
      "needs_background": "light"
     },
     "output_type": "display_data"
    },
    {
     "data": {
      "image/png": "[encoded data removed]",
      "text/plain": [
       "<Figure size 432x288 with 1 Axes>"
      ]
     },
     "metadata": {
      "needs_background": "light"
     },
     "output_type": "display_data"
    },
    {
     "data": {
      "image/png": "[encoded data removed]",
      "text/plain": [
       "<Figure size 432x288 with 1 Axes>"
      ]
     },
     "metadata": {
      "needs_background": "light"
     },
     "output_type": "display_data"
    },
    {
     "data": {
      "image/png": "[encoded data removed]",
      "text/plain": [
       "<Figure size 432x288 with 1 Axes>"
      ]
     },
     "metadata": {
      "needs_background": "light"
     },
     "output_type": "display_data"
    },
    {
     "data": {
      "image/png": "[encoded data removed]",
      "text/plain": [
       "<Figure size 432x288 with 1 Axes>"
      ]
     },
     "metadata": {
      "needs_background": "light"
     },
     "output_type": "display_data"
    },
    {
     "data": {
      "image/png": "[encoded data removed]",
      "text/plain": [
       "<Figure size 432x288 with 1 Axes>"
      ]
     },
     "metadata": {
      "needs_background": "light"
     },
     "output_type": "display_data"
    },
    {
     "data": {
      "image/png": "[encoded data removed]",
      "text/plain": [
       "<Figure size 432x288 with 1 Axes>"
      ]
     },
     "metadata": {
      "needs_background": "light"
     },
     "output_type": "display_data"
    },
    {
     "data": {
      "image/png": "[encoded data removed]",
      "text/plain": [
       "<Figure size 432x288 with 1 Axes>"
      ]
     },
     "metadata": {
      "needs_background": "light"
     },
     "output_type": "display_data"
    }
   ],
   "source": [
    "for k in range(10):\n",
    "    ex = np.zeros(shape=(32, 32, 3))\n",
    "    for i in range(32):\n",
    "        for j in range(32):\n",
    "            ex[i, j, :] = clusters[np.argmax(image0[k, i, j, :])]\n",
    "    ex = np.uint8(ex)\n",
    "    plt.imshow(ex)\n",
    "    plt.show()\n",
    "\n",
    "    plt.imshow(final[:, k, :].reshape(3, 32, 32).transpose())\n",
    "    plt.show()"
   ]
  },
  {
   "cell_type": "markdown",
   "metadata": {},
   "source": [
    "## EXTRA CREDIT PORTION"
   ]
  },
  {
   "cell_type": "markdown",
   "metadata": {},
   "source": [
    "### K-means clustering"
   ]
  },
  {
   "cell_type": "code",
   "execution_count": 147,
   "metadata": {},
   "outputs": [
    {
     "name": "stdout",
     "output_type": "stream",
     "text": [
      "[[164.13923551 165.31488815 158.72589548]\n",
      " [ 75.66871956  74.56621461  52.23891493]\n",
      " [146.68031412 140.57625563  81.54167788]\n",
      " [ 19.66878756  20.33559988  16.3561035 ]\n",
      " [243.87975752 245.33969076 243.83623543]\n",
      " [113.47926874 155.88835525 202.27535165]\n",
      " [ 47.98316932  49.61919727  39.63323574]\n",
      " [167.633642   196.09685887 223.56856276]\n",
      " [117.20434625 116.33603394 102.53861371]\n",
      " [ 65.72741742 109.79679211 155.64755606]\n",
      " [200.15938201 190.8065752  166.82232677]\n",
      " [140.98754947 140.51762425 128.54449367]\n",
      " [216.20321309 215.28003287 209.07395515]\n",
      " [ 88.20733394  91.69848131  83.65412701]\n",
      " [183.06229949 166.95898093 111.59395855]\n",
      " [114.47078501 108.19684173  57.73892896]]\n"
     ]
    }
   ],
   "source": [
    "# k-means clustering (k=16)\n",
    "# Flatten 6000 and 1024\n",
    "final1 = final.reshape(3, 6144000).transpose()\n",
    "kmeans = KMeans(n_clusters=16)\n",
    "kmeans.fit(final1)\n",
    "print(kmeans.cluster_centers_)"
   ]
  },
  {
   "cell_type": "code",
   "execution_count": 148,
   "metadata": {},
   "outputs": [
    {
     "data": {
      "text/plain": [
       "array([[164., 165., 159.],\n",
       "       [ 76.,  75.,  52.],\n",
       "       [147., 141.,  82.],\n",
       "       [ 20.,  20.,  16.],\n",
       "       [244., 245., 244.],\n",
       "       [113., 156., 202.],\n",
       "       [ 48.,  50.,  40.],\n",
       "       [168., 196., 224.],\n",
       "       [117., 116., 103.],\n",
       "       [ 66., 110., 156.],\n",
       "       [200., 191., 167.],\n",
       "       [141., 141., 129.],\n",
       "       [216., 215., 209.],\n",
       "       [ 88.,  92.,  84.],\n",
       "       [183., 167., 112.],\n",
       "       [114., 108.,  58.]])"
      ]
     },
     "execution_count": 148,
     "metadata": {},
     "output_type": "execute_result"
    }
   ],
   "source": [
    "# Don't want to rerun k-means clustering again so just gonna initialize from result above\n",
    "clusters = np.array([[164.13923551, 165.31488815, 158.72589548],\n",
    " [ 75.66871956,  74.56621461,  52.23891493],\n",
    " [146.68031412, 140.57625563,  81.54167788],\n",
    " [ 19.66878756,  20.33559988,  16.3561035 ],\n",
    " [243.87975752, 245.33969076, 243.83623543],\n",
    " [113.47926874, 155.88835525, 202.27535165],\n",
    " [ 47.98316932,  49.61919727,  39.63323574],\n",
    " [167.633642, 196.09685887, 223.56856276],\n",
    " [117.20434625, 116.33603394, 102.53861371],\n",
    " [ 65.72741742, 109.79679211, 155.64755606],\n",
    " [200.15938201, 190.8065752, 166.82232677],\n",
    " [140.98754947, 140.51762425, 128.54449367],\n",
    " [216.20321309, 215.28003287, 209.07395515],\n",
    " [ 88.20733394,  91.69848131,  83.65412701],\n",
    " [183.06229949, 166.95898093, 111.59395855],\n",
    " [114.47078501, 108.19684173,  57.73892896]])\n",
    "clusters = np.around(clusters)\n",
    "clusters"
   ]
  },
  {
   "cell_type": "markdown",
   "metadata": {},
   "source": [
    "### Converting to 16-color images"
   ]
  },
  {
   "cell_type": "code",
   "execution_count": null,
   "metadata": {},
   "outputs": [],
   "source": [
    "# Convert to colored images to the closest colour from those centroids\n",
    "output = np.zeros(shape=(3, 6000, 1024))\n",
    "\n",
    "for i in range(6000):\n",
    "    for j in range(1024):\n",
    "        distances = []\n",
    "        for c in range(4):\n",
    "            distances.append(np.linalg.norm(clusters[c]-final[:, i, j]))\n",
    "        output[:, i, j] = clusters[np.argmin(distances)]\n",
    "\n",
    "output"
   ]
  },
  {
   "cell_type": "markdown",
   "metadata": {},
   "source": [
    "### One-hot encoding"
   ]
  },
  {
   "cell_type": "code",
   "execution_count": 149,
   "metadata": {},
   "outputs": [],
   "source": [
    "# One-hot encoding output\n",
    "output2 = np.zeros(shape=(6000,1024))\n",
    "for i in range(6000):\n",
    "    for j in range(1024):\n",
    "        distances = []\n",
    "        for c in range(16):\n",
    "            distances.append(np.linalg.norm(clusters[c]-final[:, i, j]))\n",
    "        output2[i, j] = np.argmin(distances)"
   ]
  },
  {
   "cell_type": "code",
   "execution_count": 161,
   "metadata": {},
   "outputs": [
    {
     "name": "stderr",
     "output_type": "stream",
     "text": [
      "/opt/anaconda3/lib/python3.7/site-packages/sklearn/preprocessing/_encoders.py:415: FutureWarning: The handling of integer data will change in version 0.22. Currently, the categories are determined based on the range [0, max(values)], while in the future they will be determined based on the unique values.\n",
      "If you want the future behaviour and silence this warning, you can specify \"categories='auto'\".\n",
      "In case you used a LabelEncoder before this OneHotEncoder to convert the categories to integers, then you can now use the OneHotEncoder directly.\n",
      "  warnings.warn(msg, FutureWarning)\n"
     ]
    }
   ],
   "source": [
    "from sklearn.preprocessing import OneHotEncoder\n",
    "oh = OneHotEncoder()\n",
    "x = oh.fit_transform(output2.reshape(6144000, 1)).toarray()\n",
    "x = x.reshape(6000, 1024, 16)\n",
    "\n",
    "x1 = x[0, :, :].reshape(32, 32, 16).transpose(1, 0, 2).reshape(16384)\n",
    "for i in range(1,6000):\n",
    "    x1 = np.dstack((x1, x[i, :, :].reshape(32, 32, 16).transpose(1, 0, 2).reshape(16384)))\n",
    "x2 = x1.transpose()"
   ]
  },
  {
   "cell_type": "markdown",
   "metadata": {},
   "source": [
    "### Deep cNN"
   ]
  },
  {
   "cell_type": "code",
   "execution_count": 162,
   "metadata": {},
   "outputs": [],
   "source": [
    "X_train = tf.convert_to_tensor(dstack1[:5000, :, :, :])\n",
    "X_test = tf.convert_to_tensor(dstack1[5000:, :, :, :])\n",
    "y_train = tf.convert_to_tensor(x2[:5000, :, :])\n",
    "y_test = tf.convert_to_tensor(x2[5000:, :, :])"
   ]
  },
  {
   "cell_type": "code",
   "execution_count": 164,
   "metadata": {},
   "outputs": [
    {
     "name": "stdout",
     "output_type": "stream",
     "text": [
      "Model: \"sequential_47\"\n",
      "_________________________________________________________________\n",
      "Layer (type)                 Output Shape              Param #   \n",
      "=================================================================\n",
      "conv2d_88 (Conv2D)           (None, 28, 28, 32)        832       \n",
      "_________________________________________________________________\n",
      "conv2d_89 (Conv2D)           (None, 24, 24, 64)        51264     \n",
      "_________________________________________________________________\n",
      "flatten_40 (Flatten)         (None, 36864)             0         \n",
      "_________________________________________________________________\n",
      "dense_78 (Dense)             (None, 1000)              36865000  \n",
      "_________________________________________________________________\n",
      "dense_79 (Dense)             (None, 16384)             16400384  \n",
      "=================================================================\n",
      "Total params: 53,317,480\n",
      "Trainable params: 53,317,480\n",
      "Non-trainable params: 0\n",
      "_________________________________________________________________\n",
      "Train on 4500 samples, validate on 500 samples\n",
      "Epoch 1/15\n",
      "4500/4500 [==============================] - 18s 4ms/sample - loss: 0.3532 - val_loss: 0.2624\n",
      "Epoch 2/15\n",
      "4500/4500 [==============================] - 15s 3ms/sample - loss: 0.2466 - val_loss: 0.2382\n",
      "Epoch 3/15\n",
      "4500/4500 [==============================] - 15s 3ms/sample - loss: 0.2349 - val_loss: 0.2306\n",
      "Epoch 4/15\n",
      "4500/4500 [==============================] - 14s 3ms/sample - loss: 0.2297 - val_loss: 0.2278\n",
      "Epoch 5/15\n",
      "4500/4500 [==============================] - 14s 3ms/sample - loss: 0.2252 - val_loss: 0.2185\n",
      "Epoch 6/15\n",
      "4500/4500 [==============================] - 15s 3ms/sample - loss: 0.2172 - val_loss: 0.2150\n",
      "Epoch 7/15\n",
      "4500/4500 [==============================] - 15s 3ms/sample - loss: 0.2152 - val_loss: 0.2134\n",
      "Epoch 8/15\n",
      "4500/4500 [==============================] - 17s 4ms/sample - loss: 0.2136 - val_loss: 0.2126\n",
      "Epoch 9/15\n",
      "4500/4500 [==============================] - 16s 4ms/sample - loss: 0.2117 - val_loss: 0.2102\n",
      "Epoch 10/15\n",
      "4500/4500 [==============================] - 16s 3ms/sample - loss: 0.2091 - val_loss: 0.2074\n",
      "Epoch 11/15\n",
      "4500/4500 [==============================] - 15s 3ms/sample - loss: 0.2054 - val_loss: 0.2039\n",
      "Epoch 12/15\n",
      "4500/4500 [==============================] - 15s 3ms/sample - loss: 0.2023 - val_loss: 0.2010\n",
      "Epoch 13/15\n",
      "4500/4500 [==============================] - 15s 3ms/sample - loss: 0.1997 - val_loss: 0.1993\n",
      "Epoch 14/15\n",
      "4500/4500 [==============================] - 15s 3ms/sample - loss: 0.1972 - val_loss: 0.1991\n",
      "Epoch 15/15\n",
      "4500/4500 [==============================] - 15s 3ms/sample - loss: 0.1958 - val_loss: 0.1957\n"
     ]
    }
   ],
   "source": [
    "# - 5x5 layers\n",
    "# - softmax output layer\n",
    "# - use min of one max pooling\n",
    "\n",
    "# INPUT: dstack = 6000x32x32x1\n",
    "# OUTPUT: x = 6000x16384x1\n",
    "from tensorflow.keras import Sequential\n",
    "from tensorflow.keras import layers\n",
    "from tensorflow.keras import optimizers\n",
    "\n",
    "cnn = Sequential()\n",
    "cnn.add(layers.Conv2D(32, (5, 5), activation='relu', input_shape=(32, 32, 1)))\n",
    "#cnn.add(layers.MaxPooling2D((2, 2)))\n",
    "cnn.add(layers.Conv2D(64, (5, 5), activation='relu'))\n",
    "#cnn.add(layers.MaxPooling2D((2, 2)))\n",
    "cnn.add(layers.Flatten())\n",
    "# MLP\n",
    "cnn.add(layers.Dense(units=1000, input_dim = 36864, activation='relu'))\n",
    "cnn.add(layers.Dense(units=16384, input_dim = 1000, activation='linear'))\n",
    "cnn.summary()\n",
    "# compile model\n",
    "cnn.compile(optimizer='adam', loss=lossF) # loss='categorical_crossentropy'\n",
    "\n",
    "history = cnn.fit(X_train, y_train, batch_size=300, epochs=15, verbose=1, validation_split = 0.1)"
   ]
  },
  {
   "cell_type": "code",
   "execution_count": 165,
   "metadata": {},
   "outputs": [
    {
     "data": {
      "image/png": "[encoded data removed]",
      "text/plain": [
       "<Figure size 432x288 with 1 Axes>"
      ]
     },
     "metadata": {
      "needs_background": "light"
     },
     "output_type": "display_data"
    }
   ],
   "source": [
    "plt.plot(history.history['loss'])\n",
    "plt.plot(history.history['val_loss'])\n",
    "plt.title('model loss')\n",
    "plt.ylabel('loss')\n",
    "plt.xlabel('epoch')\n",
    "plt.legend(['train', 'test'], loc='upper left')\n",
    "plt.show()"
   ]
  },
  {
   "cell_type": "code",
   "execution_count": 166,
   "metadata": {},
   "outputs": [
    {
     "name": "stdout",
     "output_type": "stream",
     "text": [
      "1000/1000 [==============================] - 1s 1ms/sample - loss: 0.1962\n",
      "5000/5000 [==============================] - 6s 1ms/sample - loss: 0.1932\n",
      "Test Error: 0.1961663364171982\n",
      "Train Error: 0.193228431224823\n"
     ]
    }
   ],
   "source": [
    "results = cnn.evaluate(X_test, y_test)\n",
    "results1 = cnn.evaluate(X_train, y_train)\n",
    "print(\"Test Error: \" + str(results))\n",
    "print(\"Train Error: \" + str(results1))"
   ]
  },
  {
   "cell_type": "code",
   "execution_count": 167,
   "metadata": {},
   "outputs": [],
   "source": [
    "image0 = cnn.predict(tf.convert_to_tensor(dstack1))\n",
    "image0 = image0.reshape(6000, 32, 32, 16)"
   ]
  },
  {
   "cell_type": "code",
   "execution_count": 168,
   "metadata": {},
   "outputs": [
    {
     "data": {
      "image/png": "[encoded data removed]",
      "text/plain": [
       "<Figure size 432x288 with 1 Axes>"
      ]
     },
     "metadata": {
      "needs_background": "light"
     },
     "output_type": "display_data"
    },
    {
     "data": {
      "image/png": "[encoded data removed]",
      "text/plain": [
       "<Figure size 432x288 with 1 Axes>"
      ]
     },
     "metadata": {
      "needs_background": "light"
     },
     "output_type": "display_data"
    },
    {
     "data": {
      "image/png": "[encoded data removed]",
      "text/plain": [
       "<Figure size 432x288 with 1 Axes>"
      ]
     },
     "metadata": {
      "needs_background": "light"
     },
     "output_type": "display_data"
    },
    {
     "data": {
      "image/png": "[encoded data removed]",
      "text/plain": [
       "<Figure size 432x288 with 1 Axes>"
      ]
     },
     "metadata": {
      "needs_background": "light"
     },
     "output_type": "display_data"
    },
    {
     "data": {
      "image/png": "[encoded data removed]",
      "text/plain": [
       "<Figure size 432x288 with 1 Axes>"
      ]
     },
     "metadata": {
      "needs_background": "light"
     },
     "output_type": "display_data"
    },
    {
     "data": {
      "image/png": "[encoded data removed]",
      "text/plain": [
       "<Figure size 432x288 with 1 Axes>"
      ]
     },
     "metadata": {
      "needs_background": "light"
     },
     "output_type": "display_data"
    },
    {
     "data": {
      "image/png": "[encoded data removed]",
      "text/plain": [
       "<Figure size 432x288 with 1 Axes>"
      ]
     },
     "metadata": {
      "needs_background": "light"
     },
     "output_type": "display_data"
    },
    {
     "data": {
      "image/png": "[encoded data removed]",
      "text/plain": [
       "<Figure size 432x288 with 1 Axes>"
      ]
     },
     "metadata": {
      "needs_background": "light"
     },
     "output_type": "display_data"
    },
    {
     "data": {
      "image/png": "[encoded data removed]",
      "text/plain": [
       "<Figure size 432x288 with 1 Axes>"
      ]
     },
     "metadata": {
      "needs_background": "light"
     },
     "output_type": "display_data"
    },
    {
     "data": {
      "image/png": "[encoded data removed]",
      "text/plain": [
       "<Figure size 432x288 with 1 Axes>"
      ]
     },
     "metadata": {
      "needs_background": "light"
     },
     "output_type": "display_data"
    },
    {
     "data": {
      "image/png": "[encoded data removed]",
      "text/plain": [
       "<Figure size 432x288 with 1 Axes>"
      ]
     },
     "metadata": {
      "needs_background": "light"
     },
     "output_type": "display_data"
    },
    {
     "data": {
      "image/png": "[encoded data removed]",
      "text/plain": [
       "<Figure size 432x288 with 1 Axes>"
      ]
     },
     "metadata": {
      "needs_background": "light"
     },
     "output_type": "display_data"
    },
    {
     "data": {
      "image/png": "[encoded data removed]",
      "text/plain": [
       "<Figure size 432x288 with 1 Axes>"
      ]
     },
     "metadata": {
      "needs_background": "light"
     },
     "output_type": "display_data"
    },
    {
     "data": {
      "image/png": "[encoded data removed]",
      "text/plain": [
       "<Figure size 432x288 with 1 Axes>"
      ]
     },
     "metadata": {
      "needs_background": "light"
     },
     "output_type": "display_data"
    },
    {
     "data": {
      "image/png": "[encoded data removed]",
      "text/plain": [
       "<Figure size 432x288 with 1 Axes>"
      ]
     },
     "metadata": {
      "needs_background": "light"
     },
     "output_type": "display_data"
    },
    {
     "data": {
      "image/png": "[encoded data removed]",
      "text/plain": [
       "<Figure size 432x288 with 1 Axes>"
      ]
     },
     "metadata": {
      "needs_background": "light"
     },
     "output_type": "display_data"
    },
    {
     "data": {
      "image/png": "[encoded data removed]",
      "text/plain": [
       "<Figure size 432x288 with 1 Axes>"
      ]
     },
     "metadata": {
      "needs_background": "light"
     },
     "output_type": "display_data"
    },
    {
     "data": {
      "image/png": "[encoded data removed]",
      "text/plain": [
       "<Figure size 432x288 with 1 Axes>"
      ]
     },
     "metadata": {
      "needs_background": "light"
     },
     "output_type": "display_data"
    },
    {
     "data": {
      "image/png": "[encoded data removed]",
      "text/plain": [
       "<Figure size 432x288 with 1 Axes>"
      ]
     },
     "metadata": {
      "needs_background": "light"
     },
     "output_type": "display_data"
    },
    {
     "data": {
      "image/png": "[encoded data removed]",
      "text/plain": [
       "<Figure size 432x288 with 1 Axes>"
      ]
     },
     "metadata": {
      "needs_background": "light"
     },
     "output_type": "display_data"
    }
   ],
   "source": [
    "for k in range(10):\n",
    "    ex = np.zeros(shape=(32, 32, 3))\n",
    "    for i in range(32):\n",
    "        for j in range(32):\n",
    "            ex[i, j, :] = clusters[np.argmax(image0[k, i, j, :])]\n",
    "    ex = np.uint8(ex)\n",
    "    plt.imshow(ex)\n",
    "    plt.show()\n",
    "\n",
    "    plt.imshow(final[:, k, :].reshape(3, 32, 32).transpose())\n",
    "    plt.show()"
   ]
  },
  {
   "cell_type": "code",
   "execution_count": null,
   "metadata": {},
   "outputs": [],
   "source": []
  }
 ],
 "metadata": {
  "kernelspec": {
   "display_name": "Python 3",
   "language": "python",
   "name": "python3"
  },
  "language_info": {
   "codemirror_mode": {
    "name": "ipython",
    "version": 3
   },
   "file_extension": ".py",
   "mimetype": "text/x-python",
   "name": "python",
   "nbconvert_exporter": "python",
   "pygments_lexer": "ipython3",
   "version": "3.7.4"
  }
 },
 "nbformat": 4,
 "nbformat_minor": 4
}
