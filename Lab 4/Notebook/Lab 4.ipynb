{
 "cells": [
  {
   "cell_type": "code",
   "execution_count": 202,
   "metadata": {},
   "outputs": [],
   "source": [
    "import pandas as pd\n",
    "import numpy as np\n",
    "import html.parser as htmlparser\n",
    "from sklearn.feature_extraction.text import TfidfVectorizer\n",
    "from sklearn.linear_model import LogisticRegression\n",
    "from sklearn.model_selection import KFold\n",
    "import sklearn.metrics as skm\n",
    "from matplotlib import pyplot as plt\n",
    "from sklearn.naive_bayes import GaussianNB\n",
    "from sklearn.naive_bayes import MultinomialNB"
   ]
  },
  {
   "cell_type": "code",
   "execution_count": 203,
   "metadata": {},
   "outputs": [],
   "source": [
    "#1b\n",
    "df = pd.read_csv(\"../Data/Youtube04-Eminem.csv\")\n",
    "\n",
    "s = df.CLASS[df.CLASS == 1].index.tolist()\n",
    "h = df.CLASS[df.CLASS == 0].index.tolist()\n",
    "traini = s[:int(len(s)*0.8)] + h[:int(len(h)*0.8)]\n",
    "testi = s[int(len(s)*0.8):] + h[int(len(h)*0.8):]\n",
    "\n",
    "train_set = df.iloc[traini]\n",
    "test_set = df.iloc[testi]"
   ]
  },
  {
   "cell_type": "code",
   "execution_count": 204,
   "metadata": {},
   "outputs": [],
   "source": [
    "#1c TDIDF using the entire dataset as the corpus\n",
    "## CREATE VECTORIZER\n",
    "v = TfidfVectorizer()\n",
    "X = v.fit_transform(df.CONTENT)\n",
    "X_df = pd.DataFrame(X.toarray())\n",
    "\n",
    "X_train = X_df.iloc[traini]\n",
    "X_test = X_df.iloc[testi]\n",
    "y_train = train_set.CLASS\n",
    "y_test = test_set.CLASS"
   ]
  },
  {
   "cell_type": "code",
   "execution_count": 205,
   "metadata": {},
   "outputs": [
    {
     "name": "stdout",
     "output_type": "stream",
     "text": [
      "Penalty term: 1e-05\n"
     ]
    }
   ],
   "source": [
    "#d i. 5-fold cross-validation\n",
    "l = 10**np.linspace(-5, 5, 11)\n",
    "kf = KFold(n_splits=5)\n",
    "mean_agg = []\n",
    "for i in range(len(l)):\n",
    "    lr = LogisticRegression(penalty = 'l2', C = 1/l[i], solver='lbfgs')\n",
    "    error_ptg = []\n",
    "    for train_index, test_index in kf.split(X_train):\n",
    "        #print(\"TRAIN:\", train_index, \"TEST:\", test_index)\n",
    "        X_tr, X_va = X_train.iloc[train_index], X_train.iloc[test_index]\n",
    "        y_tr, y_va = y_train.iloc[train_index], y_train.iloc[test_index]\n",
    "        lr.fit(X_tr, y_tr)\n",
    "        prediction = lr.predict(X_va)\n",
    "\n",
    "        # Calculate percentage difference\n",
    "        diff = pd.DataFrame({'different': prediction != y_va})\n",
    "        percentage = diff['different'].value_counts(normalize=True) * 100\n",
    "        error_ptg.append(percentage[True])\n",
    "    mean_agg.append(np.mean(error_ptg))\n",
    "penalty = l[np.argmin(mean_agg)]\n",
    "print(\"Penalty term: \" + str(penalty))"
   ]
  },
  {
   "cell_type": "code",
   "execution_count": 206,
   "metadata": {},
   "outputs": [
    {
     "name": "stdout",
     "output_type": "stream",
     "text": [
      "Confusion matrix: \n",
      "[[162   0]\n",
      " [  0 196]]\n",
      "Precision: 1.0\n",
      "Recall: 1.0\n",
      "F1 Score: 1.0\n",
      "Area Under Curve: 1.0\n"
     ]
    },
    {
     "name": "stderr",
     "output_type": "stream",
     "text": [
      "/opt/anaconda3/lib/python3.7/site-packages/sklearn/linear_model/logistic.py:432: FutureWarning: Default solver will be changed to 'lbfgs' in 0.22. Specify a solver to silence this warning.\n",
      "  FutureWarning)\n"
     ]
    },
    {
     "data": {
      "image/png": "[encoded data removed]",
      "text/plain": [
       "<Figure size 432x288 with 1 Axes>"
      ]
     },
     "metadata": {
      "needs_background": "light"
     },
     "output_type": "display_data"
    }
   ],
   "source": [
    "#1d. ii TRAINING SET\n",
    "lg = LogisticRegression(penalty = 'l2', C = 1/penalty)\n",
    "lg.fit(X_train, y_train)\n",
    "prediction = lg.predict(X_train)\n",
    "predict_prob = lg.predict_proba(X_train)\n",
    "\n",
    "conf_matrix = skm.confusion_matrix(y_train, prediction)\n",
    "print(\"Confusion matrix: \\n\" + str(conf_matrix))\n",
    "#ROC?\n",
    "\n",
    "precision = skm.precision_score(y_train, prediction)\n",
    "print(\"Precision: \" + str(precision))\n",
    "\n",
    "recall = skm.recall_score(y_train, prediction)\n",
    "print(\"Recall: \" + str(recall))\n",
    "#print(precision)\n",
    "#print(recall)\n",
    "f1 = skm.f1_score(y_train, prediction)\n",
    "print(\"F1 Score: \" + str(f1))\n",
    "\n",
    "#ROC\n",
    "# Subset the probabilities of the positive class\n",
    "pos_prob = predict_prob[:, 1]\n",
    "fpr, tpr, _ = skm.roc_curve(y_train, pos_prob)\n",
    "\n",
    "plt.plot(fpr, tpr)\n",
    "plt.xlabel('False Positive Rate')\n",
    "plt.ylabel('True Positive Rate')\n",
    "\n",
    "# ROC AUC\n",
    "auc = skm.roc_auc_score(y_train, pos_prob)\n",
    "print(\"Area Under Curve: \" + str(auc))\n"
   ]
  },
  {
   "cell_type": "code",
   "execution_count": 207,
   "metadata": {},
   "outputs": [
    {
     "name": "stdout",
     "output_type": "stream",
     "text": [
      "[1 1 1 1 1 1 1 1 1 1 1 1 1 1 1 1 1 1 1 1 1 1 1 1 1 1 0 1 1 1 1 1 1 1 1 1 1\n",
      " 0 1 1 1 1 1 1 1 1 1 1 0 0 0 0 0 0 0 0 0 0 0 0 0 0 0 0 0 0 0 0 0 1 0 0 0 0\n",
      " 0 0 0 0 0 0 0 0 0 0 0 0 0 0 0 0]\n",
      "Confusion matrix: \n",
      "[[40  1]\n",
      " [ 3 46]]\n",
      "Precision: 0.9787234042553191\n",
      "Recall: 0.9387755102040817\n",
      "F1 Score: 0.9583333333333333\n",
      "Area Under Curve: 0.9955201592832255\n",
      "Beta 0.1: 0.9783112234154558\n",
      "Beta 0.5: 0.970464135021097\n",
      "Beta 0.9: 0.9604337293805514\n",
      "Beta 1: 0.9583333333333333\n",
      "Beta 5: 0.9402515723270441\n",
      "Beta 10: 0.9391550434606833\n"
     ]
    },
    {
     "data": {
      "image/png": "[encoded data removed]",
      "text/plain": [
       "<Figure size 432x288 with 1 Axes>"
      ]
     },
     "metadata": {
      "needs_background": "light"
     },
     "output_type": "display_data"
    }
   ],
   "source": [
    "#1d. iii. TEST SET\n",
    "\n",
    "prediction = lg.predict(X_test)\n",
    "predict_prob = lg.predict_proba(X_test)\n",
    "print(prediction)\n",
    "\n",
    "conf_matrix = skm.confusion_matrix(y_test, prediction)\n",
    "print(\"Confusion matrix: \\n\" + str(conf_matrix))\n",
    "#ROC?\n",
    "\n",
    "precision = skm.precision_score(y_test, prediction)\n",
    "print(\"Precision: \" + str(precision))\n",
    "\n",
    "recall = skm.recall_score(y_test, prediction)\n",
    "print(\"Recall: \" + str(recall))\n",
    "#print(precision)\n",
    "#print(recall)\n",
    "f1 = skm.f1_score(y_test, prediction)\n",
    "print(\"F1 Score: \" + str(f1))\n",
    "\n",
    "#ROC\n",
    "# Subset the probabilities of the positive class\n",
    "pos_prob = predict_prob[:, 1]\n",
    "fpr, tpr, _ = skm.roc_curve(y_test, pos_prob)\n",
    "\n",
    "plt.plot(fpr, tpr)\n",
    "plt.xlabel('False Positive Rate')\n",
    "plt.ylabel('True Positive Rate')\n",
    "\n",
    "# ROC AUC\n",
    "auc = skm.roc_auc_score(y_test, pos_prob)\n",
    "print(\"Area Under Curve: \" + str(auc))\n",
    "\n",
    "# F_Beta score\n",
    "beta = [0.1, 0.5, 0.9, 1, 5, 10]\n",
    "for b in beta:\n",
    "    f_b = skm.fbeta_score(y_test, prediction, b)\n",
    "    print(\"Beta \" + str(b) + \": \" + str(f_b))"
   ]
  },
  {
   "cell_type": "code",
   "execution_count": 208,
   "metadata": {},
   "outputs": [
    {
     "name": "stdout",
     "output_type": "stream",
     "text": [
      "Penalty term: 0.1\n"
     ]
    }
   ],
   "source": [
    "#1e) i. 5-fold cross validation with L1 penalization\n",
    "l = 10**np.linspace(-5, 5, 11)\n",
    "\n",
    "kf = KFold(n_splits=5, random_state=0)\n",
    "mean_agg = []\n",
    "for i in range(len(l)-4):\n",
    "    lr = LogisticRegression(penalty = 'l1', C = 1/l[i], solver='liblinear')\n",
    "    error_ptg = []\n",
    "    for train_index, test_index in kf.split(X_train):\n",
    "        #print(\"TRAIN:\", train_index, \"TEST:\", test_index)\n",
    "        X_tr, X_va = X_train.iloc[train_index], X_train.iloc[test_index]\n",
    "        y_tr, y_va = y_train.iloc[train_index], y_train.iloc[test_index]\n",
    "        lr.fit(X_tr, y_tr)\n",
    "        prediction = lr.predict(X_va)\n",
    "        #delete this later\n",
    "        score = lr.score(X_test, y_test)\n",
    "        avg_score += score\n",
    "        \n",
    "        # Calculate percentage difference\n",
    "        diff = pd.DataFrame({'different': prediction != y_va})\n",
    "        percentage = 100*diff['different'].value_counts(normalize=True)\n",
    "        error_ptg.append(percentage[True])\n",
    "    mean_agg.append(np.mean(error_ptg))\n",
    "penalty = l[np.argmin(mean_agg)]\n",
    "print(\"Penalty term: \" + str(penalty))\n",
    "## PENALTY TERM: 0.1"
   ]
  },
  {
   "cell_type": "code",
   "execution_count": 209,
   "metadata": {},
   "outputs": [
    {
     "name": "stderr",
     "output_type": "stream",
     "text": [
      "/opt/anaconda3/lib/python3.7/site-packages/sklearn/linear_model/logistic.py:432: FutureWarning: Default solver will be changed to 'lbfgs' in 0.22. Specify a solver to silence this warning.\n",
      "  FutureWarning)\n"
     ]
    },
    {
     "name": "stdout",
     "output_type": "stream",
     "text": [
      "Confusion matrix: \n",
      "[[162   0]\n",
      " [  0 196]]\n",
      "Precision: 1.0\n",
      "Recall: 1.0\n",
      "F1 Score: 1.0\n",
      "Area Under Curve: 1.0\n"
     ]
    },
    {
     "name": "stderr",
     "output_type": "stream",
     "text": [
      "/opt/anaconda3/lib/python3.7/site-packages/sklearn/svm/base.py:929: ConvergenceWarning: Liblinear failed to converge, increase the number of iterations.\n",
      "  \"the number of iterations.\", ConvergenceWarning)\n"
     ]
    },
    {
     "data": {
      "image/png": "[encoded data removed]",
      "text/plain": [
       "<Figure size 432x288 with 1 Axes>"
      ]
     },
     "metadata": {
      "needs_background": "light"
     },
     "output_type": "display_data"
    }
   ],
   "source": [
    "#1d. ii TRAINING SET\n",
    "lg = LogisticRegression(penalty = 'l1', C = 1/penalty)\n",
    "lg.fit(X_train, y_train)\n",
    "prediction = lg.predict(X_train)\n",
    "predict_prob = lg.predict_proba(X_train)\n",
    "\n",
    "conf_matrix = skm.confusion_matrix(y_train, prediction)\n",
    "print(\"Confusion matrix: \\n\" + str(conf_matrix))\n",
    "#ROC?\n",
    "\n",
    "precision = skm.precision_score(y_train, prediction)\n",
    "print(\"Precision: \" + str(precision))\n",
    "\n",
    "recall = skm.recall_score(y_train, prediction)\n",
    "print(\"Recall: \" + str(recall))\n",
    "#print(precision)\n",
    "#print(recall)\n",
    "f1 = skm.f1_score(y_train, prediction)\n",
    "print(\"F1 Score: \" + str(f1))\n",
    "\n",
    "#ROC\n",
    "# Subset the probabilities of the positive class\n",
    "pos_prob = predict_prob[:, 1]\n",
    "fpr, tpr, _ = skm.roc_curve(y_train, pos_prob)\n",
    "\n",
    "plt.plot(fpr, tpr)\n",
    "plt.xlabel('False Positive Rate')\n",
    "plt.ylabel('True Positive Rate')\n",
    "\n",
    "# ROC AUC\n",
    "auc = skm.roc_auc_score(y_train, pos_prob)\n",
    "print(\"Area Under Curve: \" + str(auc))\n"
   ]
  },
  {
   "cell_type": "code",
   "execution_count": 210,
   "metadata": {},
   "outputs": [
    {
     "name": "stdout",
     "output_type": "stream",
     "text": [
      "[1 1 1 1 1 1 1 1 1 1 1 1 1 1 1 1 0 1 0 1 1 1 0 1 1 1 0 1 1 1 1 1 1 1 1 1 1\n",
      " 0 1 1 1 1 1 1 1 1 1 1 0 0 0 0 0 0 0 0 0 0 0 0 0 0 0 0 0 0 0 0 0 1 0 0 0 0\n",
      " 0 0 0 0 0 0 0 0 0 0 0 0 0 0 0 0]\n",
      "Confusion matrix: \n",
      "[[40  1]\n",
      " [ 6 43]]\n",
      "Precision: 0.9772727272727273\n",
      "Recall: 0.8775510204081632\n",
      "F1 Score: 0.9247311827956989\n",
      "Area Under Curve: 0.9912891986062717\n",
      "Beta 0.1: 0.9761744212182513\n",
      "Beta 0.5: 0.9555555555555556\n",
      "Beta 0.9: 0.9299796869398973\n",
      "Beta 1: 0.9247311827956989\n",
      "Beta 5: 0.8810086682427107\n",
      "Beta 10: 0.8784385113268607\n"
     ]
    },
    {
     "data": {
      "image/png": "[encoded data removed]",
      "text/plain": [
       "<Figure size 432x288 with 1 Axes>"
      ]
     },
     "metadata": {
      "needs_background": "light"
     },
     "output_type": "display_data"
    }
   ],
   "source": [
    "#1d. iii. TEST SET\n",
    "\n",
    "prediction = lg.predict(X_test)\n",
    "predict_prob = lg.predict_proba(X_test)\n",
    "print(prediction)\n",
    "\n",
    "conf_matrix = skm.confusion_matrix(y_test, prediction)\n",
    "print(\"Confusion matrix: \\n\" + str(conf_matrix))\n",
    "#ROC?\n",
    "\n",
    "precision = skm.precision_score(y_test, prediction)\n",
    "print(\"Precision: \" + str(precision))\n",
    "\n",
    "recall = skm.recall_score(y_test, prediction)\n",
    "print(\"Recall: \" + str(recall))\n",
    "#print(precision)\n",
    "#print(recall)\n",
    "f1 = skm.f1_score(y_test, prediction)\n",
    "print(\"F1 Score: \" + str(f1))\n",
    "\n",
    "#ROC\n",
    "# Subset the probabilities of the positive class\n",
    "pos_prob = predict_prob[:, 1]\n",
    "fpr, tpr, _ = skm.roc_curve(y_test, pos_prob)\n",
    "\n",
    "plt.plot(fpr, tpr)\n",
    "plt.xlabel('False Positive Rate')\n",
    "plt.ylabel('True Positive Rate')\n",
    "\n",
    "# ROC AUC\n",
    "auc = skm.roc_auc_score(y_test, pos_prob)\n",
    "print(\"Area Under Curve: \" + str(auc))\n",
    "\n",
    "# F_Beta score\n",
    "beta = [0.1, 0.5, 0.9, 1, 5, 10]\n",
    "for i in range(6):\n",
    "    f_b = skm.fbeta_score(y_test, prediction, beta[i])\n",
    "    print(\"Beta \" + str(beta[i]) + \": \" + str(f_b))"
   ]
  },
  {
   "cell_type": "code",
   "execution_count": 211,
   "metadata": {},
   "outputs": [
    {
     "name": "stdout",
     "output_type": "stream",
     "text": [
      "[1 1 1 1 1 1 1 1 1 1 1 1 1 1 1 1 1 1 0 1 1 1 1 1 1 1 1 1 1 1 1 1 1 1 1 1 1\n",
      " 1 1 1 1 1 1 1 1 1 1 1 1 0 1 0 0 0 0 0 0 1 0 0 0 0 0 0 0 0 0 0 0 1 0 0 0 0\n",
      " 1 0 0 0 0 1 1 0 0 0 0 0 0 0 0 0]\n",
      "Confusion matrix: \n",
      "[[35  6]\n",
      " [ 1 48]]\n",
      "Precision: 0.8888888888888888\n",
      "Recall: 0.9795918367346939\n",
      "F1 Score: 0.9320388349514563\n",
      "Area Under Curve: 0.9166251866600298\n"
     ]
    },
    {
     "data": {
      "image/png": "[encoded data removed]",
      "text/plain": [
       "<Figure size 432x288 with 1 Axes>"
      ]
     },
     "metadata": {
      "needs_background": "light"
     },
     "output_type": "display_data"
    }
   ],
   "source": [
    "# 1f) Naive Bayes' with Gaussian (Test Set)\n",
    "gnb = GaussianNB().fit(X_train, y_train)\n",
    "prediction = gnb.predict(X_test)\n",
    "predict_prob = gnb.predict_proba(X_test)\n",
    "print(prediction)\n",
    "\n",
    "conf_matrix = skm.confusion_matrix(y_test, prediction)\n",
    "print(\"Confusion matrix: \\n\" + str(conf_matrix))\n",
    "#ROC?\n",
    "\n",
    "precision = skm.precision_score(y_test, prediction)\n",
    "print(\"Precision: \" + str(precision))\n",
    "\n",
    "recall = skm.recall_score(y_test, prediction)\n",
    "print(\"Recall: \" + str(recall))\n",
    "#print(precision)\n",
    "#print(recall)\n",
    "f1 = skm.f1_score(y_test, prediction)\n",
    "print(\"F1 Score: \" + str(f1))\n",
    "\n",
    "#ROC\n",
    "# Subset the probabilities of the positive class\n",
    "pos_prob = predict_prob[:, 1]\n",
    "fpr, tpr, _ = skm.roc_curve(y_test, pos_prob)\n",
    "\n",
    "plt.plot(fpr, tpr)\n",
    "plt.xlabel('False Positive Rate')\n",
    "plt.ylabel('True Positive Rate')\n",
    "\n",
    "# ROC AUC\n",
    "auc = skm.roc_auc_score(y_test, pos_prob)\n",
    "print(\"Area Under Curve: \" + str(auc))"
   ]
  },
  {
   "cell_type": "code",
   "execution_count": 212,
   "metadata": {},
   "outputs": [
    {
     "name": "stdout",
     "output_type": "stream",
     "text": [
      "Confusion matrix: \n",
      "[[162   0]\n",
      " [  1 195]]\n",
      "Precision: 1.0\n",
      "Recall: 0.9948979591836735\n",
      "F1 Score: 0.9974424552429668\n",
      "Area Under Curve: 0.9974489795918368\n"
     ]
    },
    {
     "data": {
      "image/png": "[encoded data removed]",
      "text/plain": [
       "<Figure size 432x288 with 1 Axes>"
      ]
     },
     "metadata": {
      "needs_background": "light"
     },
     "output_type": "display_data"
    }
   ],
   "source": [
    "## TRAIN SET\n",
    "prediction = gnb.predict(X_train)\n",
    "predict_prob = gnb.predict_proba(X_train)\n",
    "\n",
    "conf_matrix = skm.confusion_matrix(y_train, prediction)\n",
    "print(\"Confusion matrix: \\n\" + str(conf_matrix))\n",
    "#ROC?\n",
    "\n",
    "precision = skm.precision_score(y_train, prediction)\n",
    "print(\"Precision: \" + str(precision))\n",
    "\n",
    "recall = skm.recall_score(y_train, prediction)\n",
    "print(\"Recall: \" + str(recall))\n",
    "#print(precision)\n",
    "#print(recall)\n",
    "f1 = skm.f1_score(y_train, prediction)\n",
    "print(\"F1 Score: \" + str(f1))\n",
    "\n",
    "#ROC\n",
    "# Subset the probabilities of the positive class\n",
    "pos_prob = predict_prob[:, 1]\n",
    "fpr, tpr, _ = skm.roc_curve(y_train, pos_prob)\n",
    "\n",
    "plt.plot(fpr, tpr)\n",
    "plt.xlabel('False Positive Rate')\n",
    "plt.ylabel('True Positive Rate')\n",
    "\n",
    "# ROC AUC\n",
    "auc = skm.roc_auc_score(y_train, pos_prob)\n",
    "print(\"Area Under Curve: \" + str(auc))\n"
   ]
  },
  {
   "cell_type": "code",
   "execution_count": 213,
   "metadata": {},
   "outputs": [
    {
     "name": "stdout",
     "output_type": "stream",
     "text": [
      "[1 1 1 1 1 1 1 1 1 1 1 1 1 1 1 1 1 1 1 1 1 1 1 1 1 1 1 1 1 1 1 1 1 1 1 1 1\n",
      " 1 1 1 1 1 1 1 1 1 1 1 1 0 1 0 0 0 0 0 0 0 0 1 0 0 1 0 0 0 0 0 1 1 0 0 0 0\n",
      " 1 1 0 0 0 0 0 0 1 0 0 0 0 0 0 0]\n",
      "Confusion matrix: \n",
      "[[33  8]\n",
      " [ 0 49]]\n",
      "Precision: 0.8596491228070176\n",
      "Recall: 1.0\n",
      "F1 Score: 0.9245283018867925\n",
      "Area Under Curve: 0.9940268790443006\n"
     ]
    },
    {
     "data": {
      "image/png": "[encoded data removed]",
      "text/plain": [
       "<Figure size 432x288 with 1 Axes>"
      ]
     },
     "metadata": {
      "needs_background": "light"
     },
     "output_type": "display_data"
    }
   ],
   "source": [
    "# 1g) Naive Bayes' with Multinomial (Test Set)\n",
    "mnb = MultinomialNB().fit(X_train, y_train)\n",
    "prediction = mnb.predict(X_test)\n",
    "predict_prob = mnb.predict_proba(X_test)\n",
    "print(prediction)\n",
    "\n",
    "conf_matrix = skm.confusion_matrix(y_test, prediction)\n",
    "print(\"Confusion matrix: \\n\" + str(conf_matrix))\n",
    "#ROC?\n",
    "\n",
    "precision = skm.precision_score(y_test, prediction)\n",
    "print(\"Precision: \" + str(precision))\n",
    "\n",
    "recall = skm.recall_score(y_test, prediction)\n",
    "print(\"Recall: \" + str(recall))\n",
    "#print(precision)\n",
    "#print(recall)\n",
    "f1 = skm.f1_score(y_test, prediction)\n",
    "print(\"F1 Score: \" + str(f1))\n",
    "\n",
    "#ROC\n",
    "# Subset the probabilities of the positive class\n",
    "pos_prob = predict_prob[:, 1]\n",
    "fpr, tpr, _ = skm.roc_curve(y_test, pos_prob)\n",
    "\n",
    "plt.plot(fpr, tpr)\n",
    "plt.xlabel('False Positive Rate')\n",
    "plt.ylabel('True Positive Rate')\n",
    "\n",
    "# ROC AUC\n",
    "auc = skm.roc_auc_score(y_test, pos_prob)\n",
    "print(\"Area Under Curve: \" + str(auc))"
   ]
  },
  {
   "cell_type": "code",
   "execution_count": 214,
   "metadata": {},
   "outputs": [
    {
     "name": "stdout",
     "output_type": "stream",
     "text": [
      "Confusion matrix: \n",
      "[[154   8]\n",
      " [  0 196]]\n",
      "Precision: 0.9607843137254902\n",
      "Recall: 1.0\n",
      "F1 Score: 0.98\n",
      "Area Under Curve: 0.9991496598639454\n"
     ]
    },
    {
     "data": {
      "image/png": "[encoded data removed]",
      "text/plain": [
       "<Figure size 432x288 with 1 Axes>"
      ]
     },
     "metadata": {
      "needs_background": "light"
     },
     "output_type": "display_data"
    }
   ],
   "source": [
    "## TRAIN SET\n",
    "prediction = mnb.predict(X_train)\n",
    "predict_prob = mnb.predict_proba(X_train)\n",
    "\n",
    "conf_matrix = skm.confusion_matrix(y_train, prediction)\n",
    "print(\"Confusion matrix: \\n\" + str(conf_matrix))\n",
    "#ROC?\n",
    "\n",
    "precision = skm.precision_score(y_train, prediction)\n",
    "print(\"Precision: \" + str(precision))\n",
    "\n",
    "recall = skm.recall_score(y_train, prediction)\n",
    "print(\"Recall: \" + str(recall))\n",
    "#print(precision)\n",
    "#print(recall)\n",
    "f1 = skm.f1_score(y_train, prediction)\n",
    "print(\"F1 Score: \" + str(f1))\n",
    "\n",
    "#ROC\n",
    "# Subset the probabilities of the positive class\n",
    "pos_prob = predict_prob[:, 1]\n",
    "fpr, tpr, _ = skm.roc_curve(y_train, pos_prob)\n",
    "\n",
    "plt.plot(fpr, tpr)\n",
    "plt.xlabel('False Positive Rate')\n",
    "plt.ylabel('True Positive Rate')\n",
    "\n",
    "# ROC AUC\n",
    "auc = skm.roc_auc_score(y_train, pos_prob)\n",
    "print(\"Area Under Curve: \" + str(auc))"
   ]
  },
  {
   "cell_type": "code",
   "execution_count": 257,
   "metadata": {},
   "outputs": [],
   "source": [
    "# 1h\n",
    "class Stats:\n",
    "    def __init__(self, path):\n",
    "        self.df = pd.read_csv(path)\n",
    "        \n",
    "    def TFIDF(self):\n",
    "        s = self.df.CLASS[df.CLASS == 1].index.tolist()\n",
    "        h = self.df.CLASS[df.CLASS == 0].index.tolist()\n",
    "        traini = s[:int(len(s)*0.8)] + h[:int(len(h)*0.8)]\n",
    "        testi = s[int(len(s)*0.8):] + h[int(len(h)*0.8):]\n",
    "\n",
    "        train_set = self.df.iloc[traini]\n",
    "        test_set = self.df.iloc[testi]\n",
    "        \n",
    "        v = TfidfVectorizer()\n",
    "        X = v.fit_transform(self.df.CONTENT)\n",
    "        X_df = pd.DataFrame(X.toarray())\n",
    "\n",
    "        self.X_train = X_df.iloc[traini]\n",
    "        self.X_test = X_df.iloc[testi]\n",
    "        self.y_train = train_set.CLASS\n",
    "        self.y_test = test_set.CLASS\n",
    "    \n",
    "    def LogitL2(self):\n",
    "        ## 5-fold cross validation\n",
    "        l = 10**np.linspace(-5, 5, 11)\n",
    "        kf = KFold(n_splits=5, random_state=0)\n",
    "        mean_agg = []\n",
    "        for i in range(len(l)-9):\n",
    "            lr = LogisticRegression(penalty = 'l2', C = 1/l[i], solver='lbfgs')\n",
    "            error_ptg = []\n",
    "            for train_index, test_index in kf.split(self.X_train):\n",
    "                #print(\"TRAIN:\", train_index, \"TEST:\", test_index)\n",
    "                X_tr, X_va = self.X_train.iloc[train_index], self.X_train.iloc[test_index]\n",
    "                y_tr, y_va = self.y_train.iloc[train_index], self.y_train.iloc[test_index]\n",
    "                #print(X_tr)\n",
    "                #print(y_tr)\n",
    "                lr.fit(X_tr, y_tr)\n",
    "                prediction = lr.predict(X_va)\n",
    "\n",
    "                # Calculate percentage difference\n",
    "                diff = pd.DataFrame({'different': prediction != y_va})\n",
    "                percentage = diff['different'].value_counts(normalize=True) * 100\n",
    "                error_ptg.append(percentage[True])\n",
    "            mean_agg.append(np.mean(error_ptg))\n",
    "        penalty = l[np.argmin(mean_agg)]\n",
    "        \n",
    "        ## FIT to L2 ##\n",
    "        lg = LogisticRegression(penalty = 'l2', C = 1/penalty, solver='lbfgs')\n",
    "        lg.fit(self.X_train, self.y_train)\n",
    "        prediction = lg.predict(self.X_test)\n",
    "        predict_prob = lg.predict_proba(self.X_test)\n",
    "        \n",
    "        ## STATS CALCULATION ##\n",
    "        accuracy = skm.accuracy_score(self.y_test, prediction)\n",
    "        precision = skm.precision_score(self.y_test, prediction)\n",
    "        recall = skm.recall_score(self.y_test, prediction)\n",
    "        f1 = skm.f1_score(self.y_test, prediction)\n",
    "        pos_prob = predict_prob[:, 1]\n",
    "        auc_l2 = skm.roc_auc_score(self.y_test, pos_prob)\n",
    "        self.l2 = [\"Logit (L2)\", accuracy, precision, recall, f1, auc_l2]\n",
    "            \n",
    "    def LogitL1(self):\n",
    "        #1e) i. 5-fold cross validation with L1 penalization\n",
    "        l = 10**np.linspace(-5, 5, 11)\n",
    "\n",
    "        kf = KFold(n_splits=5, random_state=0)\n",
    "        mean_agg = []\n",
    "        for i in range(len(l)-4):\n",
    "            lr = LogisticRegression(penalty = 'l1', C = 1/l[i], solver='liblinear')\n",
    "            error_ptg = []\n",
    "            for train_index, test_index in kf.split(self.X_train):\n",
    "                #print(\"TRAIN:\", train_index, \"TEST:\", test_index)\n",
    "                X_tr, X_va = self.X_train.iloc[train_index], self.X_train.iloc[test_index]\n",
    "                y_tr, y_va = self.y_train.iloc[train_index], self.y_train.iloc[test_index]\n",
    "                lr.fit(X_tr, y_tr)\n",
    "                prediction = lr.predict(X_va)\n",
    "\n",
    "                # Calculate percentage difference\n",
    "                diff = pd.DataFrame({'different': prediction != y_va})\n",
    "                percentage = 100*diff['different'].value_counts(normalize=True)\n",
    "                error_ptg.append(percentage[True])\n",
    "            mean_agg.append(np.mean(error_ptg))\n",
    "        penalty = l[np.argmin(mean_agg)]\n",
    "        \n",
    "        ## FIT to L1 ##\n",
    "        lg = LogisticRegression(penalty = 'l1', C = 1/penalty, solver='liblinear')\n",
    "        lg.fit(self.X_train, self.y_train)\n",
    "        prediction = lg.predict(self.X_test)\n",
    "        predict_prob = lg.predict_proba(self.X_test)\n",
    "\n",
    "        accuracy = skm.accuracy_score(self.y_test, prediction)\n",
    "        precision = skm.precision_score(self.y_test, prediction)\n",
    "        recall = skm.recall_score(self.y_test, prediction)\n",
    "        f1 = skm.f1_score(self.y_test, prediction)\n",
    "        pos_prob = predict_prob[:, 1]\n",
    "        auc = skm.roc_auc_score(self.y_test, pos_prob)\n",
    "        self.l1 = [\"Logit (L1)\", accuracy, precision, recall, f1, auc]\n",
    "\n",
    "        \n",
    "    def GaussianNB(self):\n",
    "        gnb = GaussianNB().fit(self.X_train, self.y_train)\n",
    "        prediction = gnb.predict(self.X_test)\n",
    "        predict_prob = gnb.predict_proba(self.X_test)\n",
    "\n",
    "        accuracy = skm.accuracy_score(self.y_test, prediction)\n",
    "        precision = skm.precision_score(self.y_test, prediction)\n",
    "        recall = skm.recall_score(self.y_test, prediction)\n",
    "        f1 = skm.f1_score(self.y_test, prediction)\n",
    "        pos_prob = predict_prob[:, 1]\n",
    "        auc = skm.roc_auc_score(self.y_test, pos_prob)\n",
    "        self.gnb = [\"NB-Gaussian\", accuracy, precision, recall, f1, auc]\n",
    "        \n",
    "    def MultiNB(self):\n",
    "        mnb = MultinomialNB().fit(self.X_train, self.y_train)\n",
    "        prediction = mnb.predict(self.X_test)\n",
    "        predict_prob = mnb.predict_proba(self.X_test)\n",
    "\n",
    "        self.mnbaccuracy = skm.accuracy_score(self.y_test, prediction)\n",
    "        self.mnbprecision = skm.precision_score(self.y_test, prediction)\n",
    "        self.mnbrecall = skm.recall_score(self.y_test, prediction)\n",
    "        self.mnbf1 = skm.f1_score(self.y_test, prediction)\n",
    "        pos_prob = predict_prob[:, 1]\n",
    "        self.mnbauc = skm.roc_auc_score(self.y_test, pos_prob)\n",
    "        self.mnb = [\"NB-Multinomial\", self.mnbaccuracy, self.mnbprecision, self.mnbrecall, self.mnbf1, self.mnbauc]\n",
    "    \n",
    "    def Table(self):\n",
    "        self.TFIDF()\n",
    "        self.LogitL2()\n",
    "        self.LogitL1()\n",
    "        self.GaussianNB()    \n",
    "        self.MultiNB()\n",
    "        c = [\"Instance\", \"Accuracy\", \"Precision\", \"Recall\", \"F1\", \"AUC\"]\n",
    "        d = [self.l2, self.l1, self.gnb, self.mnb]\n",
    "        self.stats = pd.DataFrame(d, columns=c)\n",
    "        print(self.stats)"
   ]
  },
  {
   "cell_type": "code",
   "execution_count": 258,
   "metadata": {},
   "outputs": [
    {
     "name": "stdout",
     "output_type": "stream",
     "text": [
      "         Instance  Accuracy  Precision    Recall        F1       AUC\n",
      "0      Logit (L2)  0.955556   0.978723  0.938776  0.958333  0.994027\n",
      "1      Logit (L1)  0.922222   0.977273  0.877551  0.924731  0.994525\n",
      "2     NB-Gaussian  0.922222   0.888889  0.979592  0.932039  0.916625\n",
      "3  NB-Multinomial  0.911111   0.859649  1.000000  0.924528  0.994027\n"
     ]
    },
    {
     "data": {
      "text/plain": [
       "'\\npsy = Table(\"../Data/Youtube01-Psy.csv\")\\npsy.Execute()\\nprint(psy.stats)\\n\\nkp = Table(\"../Data/Youtube02-KatyPerry.csv\")\\nkp.Execute()\\nprint(kp.stats)'"
      ]
     },
     "execution_count": 258,
     "metadata": {},
     "output_type": "execute_result"
    }
   ],
   "source": [
    "## EMINEM\n",
    "e = Stats(\"../Data/Youtube04-Eminem.csv\")\n",
    "e.Table()"
   ]
  },
  {
   "cell_type": "code",
   "execution_count": 259,
   "metadata": {},
   "outputs": [
    {
     "name": "stdout",
     "output_type": "stream",
     "text": [
      "         Instance  Accuracy  Precision    Recall        F1       AUC\n",
      "0      Logit (L2)  0.973333   0.983607  0.983607  0.983607  0.996487\n",
      "1      Logit (L1)  0.973333   1.000000  0.967213  0.983333  0.997658\n",
      "2     NB-Gaussian  0.986667   0.983871  1.000000  0.991870  0.964286\n",
      "3  NB-Multinomial  0.893333   1.000000  0.868852  0.929825  0.995316\n"
     ]
    },
    {
     "name": "stderr",
     "output_type": "stream",
     "text": [
      "/opt/anaconda3/lib/python3.7/site-packages/sklearn/svm/base.py:929: ConvergenceWarning: Liblinear failed to converge, increase the number of iterations.\n",
      "  \"the number of iterations.\", ConvergenceWarning)\n"
     ]
    }
   ],
   "source": [
    "## SHAKIRA\n",
    "sh = Stats(\"../Data/Youtube05-Shakira.csv\")\n",
    "sh.Table()"
   ]
  },
  {
   "cell_type": "code",
   "execution_count": 260,
   "metadata": {},
   "outputs": [
    {
     "name": "stdout",
     "output_type": "stream",
     "text": [
      "         Instance  Accuracy  Precision    Recall        F1       AUC\n",
      "0      Logit (L2)  0.942857   1.000000  0.891892  0.942857  0.994267\n",
      "1      Logit (L1)  0.928571   0.944444  0.918919  0.931507  0.990991\n",
      "2     NB-Gaussian  0.842857   0.906250  0.783784  0.840580  0.846437\n",
      "3  NB-Multinomial  0.942857   0.945946  0.945946  0.945946  0.992629\n"
     ]
    },
    {
     "name": "stderr",
     "output_type": "stream",
     "text": [
      "/opt/anaconda3/lib/python3.7/site-packages/sklearn/svm/base.py:929: ConvergenceWarning: Liblinear failed to converge, increase the number of iterations.\n",
      "  \"the number of iterations.\", ConvergenceWarning)\n"
     ]
    }
   ],
   "source": [
    "## PSY\n",
    "psy = Stats(\"../Data/Youtube01-Psy.csv\")\n",
    "psy.Table()"
   ]
  },
  {
   "cell_type": "code",
   "execution_count": 261,
   "metadata": {},
   "outputs": [
    {
     "name": "stdout",
     "output_type": "stream",
     "text": [
      "         Instance  Accuracy  Precision   Recall        F1       AUC\n",
      "0      Logit (L2)  0.914286   0.964286  0.84375  0.900000  0.967105\n",
      "1      Logit (L1)  0.957143   0.967742  0.93750  0.952381  0.969572\n",
      "2     NB-Gaussian  0.828571   0.763158  0.90625  0.828571  0.834704\n",
      "3  NB-Multinomial  0.914286   0.933333  0.87500  0.903226  0.963816\n"
     ]
    }
   ],
   "source": [
    "## KATY PERRY\n",
    "kp = Stats(\"../Data/Youtube02-KatyPerry.csv\")\n",
    "kp.Table()"
   ]
  },
  {
   "cell_type": "code",
   "execution_count": 263,
   "metadata": {},
   "outputs": [
    {
     "name": "stdout",
     "output_type": "stream",
     "text": [
      "         Instance  Accuracy  Precision    Recall        F1       AUC\n",
      "0      Logit (L2)  0.875000   1.000000  0.845070  0.916031  0.986744\n",
      "1      Logit (L1)  0.897727   1.000000  0.873239  0.932331  0.970174\n",
      "2     NB-Gaussian  0.897727   0.984375  0.887324  0.933333  0.907622\n",
      "3  NB-Multinomial  0.886364   1.000000  0.859155  0.924242  0.982601\n"
     ]
    }
   ],
   "source": [
    "## LMFAO\n",
    "lmfao = Stats(\"../Data/Youtube03-LMFAO.csv\")\n",
    "lmfao.Table()"
   ]
  }
 ],
 "metadata": {
  "kernelspec": {
   "display_name": "Python 3",
   "language": "python",
   "name": "python3"
  },
  "language_info": {
   "codemirror_mode": {
    "name": "ipython",
    "version": 3
   },
   "file_extension": ".py",
   "mimetype": "text/x-python",
   "name": "python",
   "nbconvert_exporter": "python",
   "pygments_lexer": "ipython3",
   "version": "3.7.4"
  }
 },
 "nbformat": 4,
 "nbformat_minor": 2
}
